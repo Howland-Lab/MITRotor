{
 "cells": [
  {
   "cell_type": "markdown",
   "metadata": {},
   "source": [
    "# MITRotor Quickstart"
   ]
  },
  {
   "cell_type": "markdown",
   "metadata": {},
   "source": [
    "`MITRotor` is used for setting up and solving customizable blade element models (BEMs). These models can either be solved on their own, or used within the `MITWindfarm` package to explore various wind farm dynamics. `MITRotor` allows the user to specify rotor definition, geometry, aerodynamic properties, tip loss method, axial induction calculation method, and tangential induction calculation method.\n",
    "\n",
    "The two most important classes for a user are the `BEM` class and the `BEMSolution` class. The `BEM` class allows the user to build a BEM, which then calculates a `BEMSolution` when given the arguments `pitch`, `tsr`, and `yaw`. We will start this tutorial with initializing a `BEM` object.\n",
    "\n",
    "Start with installing the code from GitHub. In order to run the notebook below, you will need to install `MITRotor`. Then import the code as follows:"
   ]
  },
  {
   "cell_type": "code",
   "execution_count": null,
   "metadata": {},
   "outputs": [],
   "source": [
    "import MITRotor as mr"
   ]
  },
  {
   "cell_type": "markdown",
   "metadata": {},
   "source": [
    "We also need a few common python packages."
   ]
  },
  {
   "cell_type": "code",
   "execution_count": null,
   "metadata": {},
   "outputs": [],
   "source": [
    "import matplotlib.pyplot as plt\n",
    "import numpy as np"
   ]
  },
  {
   "cell_type": "markdown",
   "metadata": {},
   "source": [
    "## Initializing a `BEM` Object"
   ]
  },
  {
   "cell_type": "markdown",
   "metadata": {},
   "source": [
    "### Rotor Definitions\n",
    "The first argument needed to initialize a `BEM` is a `RotorDefinition`. A `RotorDefinition` is a separate class that allows the user to define many of the rotor properties. The most straightforward way to create a new rotor definition is to create a `.yaml` file with each of the necessary fields, just like the files in the `ReferenceTurbines` folder. These files can then be read in using the `from_windio` function, which returns a `RotorDefinition`.\n",
    "\n",
    "This process is streamlined for the three provided reference turbines: `IEA15MW`, `IEA10MW`, and `IEA3_4MW`. For these three turbines, the user simply needs to call the function names with no arguments and a `RotorDefinition` using the previously mentioned `yaml` files will be created. These files were originally accessed through the [IEA Wind Systems GitHub repository](https://github.com/IEAWindSystems)."
   ]
  },
  {
   "cell_type": "code",
   "execution_count": null,
   "metadata": {},
   "outputs": [],
   "source": [
    "rotor_15mw = mr.IEA15MW()\n",
    "rotor_10mw = mr.IEA10MW()"
   ]
  },
  {
   "cell_type": "markdown",
   "metadata": {},
   "source": [
    "If you want to create a new turbine type, see the example files in the `ReferenceTurbines` folder and the code in the `RotorDefinitions.py` file to start building your own definition beyond the reference turbines."
   ]
  },
  {
   "cell_type": "markdown",
   "metadata": {},
   "source": [
    "### Geometry"
   ]
  },
  {
   "cell_type": "markdown",
   "metadata": {},
   "source": [
    "For the `BEM` model geometry, the user can choose how many points they would like radially and azimuthally. The default, if no geometry is provided to the `BEM` constructor, is 10 points radially and 20 points azimuthally. If the user wants a coarser or finer simulation, they can provide the arguments `Nr` and `Ntheta`. "
   ]
  },
  {
   "cell_type": "code",
   "execution_count": null,
   "metadata": {},
   "outputs": [],
   "source": [
    "rotor_geometry = mr.BEMGeometry(Nr = 20, Ntheta = 30)"
   ]
  },
  {
   "cell_type": "markdown",
   "metadata": {},
   "source": [
    "### Tip Loss Model"
   ]
  },
  {
   "cell_type": "markdown",
   "metadata": {},
   "source": [
    "There are two options for tip loss models, `NoTipLoss` and `PrandtlTipLoss`, which are concrete subtypes of the `TipLossModel` class. As the names suggest, the `NoTipLoss` model does not model tip loss, while the `PrandtlTipLoss` uses Prandtl's tip loss factor. With `PrandtlTipLoss`, there is an optional `root_loss` parameter, which defaults to `True`.\n",
    "\n",
    "If no tip loss model is provided to the `BEM`, the default is the `PrandtlTipLoss` with `root_loss` set to true."
   ]
  },
  {
   "cell_type": "code",
   "execution_count": null,
   "metadata": {},
   "outputs": [],
   "source": [
    "no_tip_loss = mr.NoTipLoss()\n",
    "prandtl_tip_loss = mr.PrandtlTipLoss(root_loss = True)"
   ]
  },
  {
   "cell_type": "markdown",
   "metadata": {},
   "source": [
    "### Momentum Model"
   ]
  },
  {
   "cell_type": "markdown",
   "metadata": {},
   "source": [
    "There are 5 total momentum models to the user to choose from, all of which are concrete subtypes of the `MomentumModel` class. The options are: `ConstantInduction`, `ClassicalMomentum`, `HeckMomentum`, `UnifiedMomentum`, and `MadsenMomentum`.\n",
    "\n",
    "Each of these different momentum models requires different arguments. All models (other than `ConstantInduction`) have a shared optional argument `averaging`, which has the options `\"sector\"`, `\"annulus\"`, and `\"rotor\"`, and defaults to `\"rotor\"`. Beyond this shared argument, the models have these unique augments:\n",
    "\n",
    "- `ConstantInduction`: argument `a`, which is the constant induction for the rotor. The default is $\\frac{1}{3}$.\n",
    "\n",
    "- `ClassicalMomentum`: no other arguments.\n",
    "\n",
    "- `HeckMomentum`: argument `ac`. The default value of `ac`, the initial induction value, is $\\frac{1}{3}$ [[Heck et al., 2023](https://doi.org/10.1017/jfm.2023.129)]. \n",
    "\n",
    "- `UnifiedMomentum`: argument `beta`. The argument `beta` is the shear layer growth rate parameter and has a default value of 0.1403 [[Liew et al., 2024](https://www.nature.com/articles/s41467-024-50756-5)].\n",
    "\n",
    "- `MadsenMomentum`: argument `cosine_exponent`, which is an optional exponent on the cosine term in the Madsen model [[Madsen et al., 2020](https://wes.copernicus.org/articles/5/1/2020/)].\n",
    "\n",
    "The `HeckMomentum` model with default arguments is provided to the `BEM` as the momentum model if the user doesn't provide one.\n",
    "\n",
    "Here we show an example of the `UnifiedMomentum` model:"
   ]
  },
  {
   "cell_type": "code",
   "execution_count": null,
   "metadata": {},
   "outputs": [],
   "source": [
    "unified_momentum_model = mr.UnifiedMomentum(averaging = \"rotor\")"
   ]
  },
  {
   "cell_type": "markdown",
   "metadata": {},
   "source": [
    "### Tangential Induction Model"
   ]
  },
  {
   "cell_type": "markdown",
   "metadata": {},
   "source": [
    "There are two options for the tangential induction model, `NoTangentialInduction` and `DefaultTangentialInduction`, which are concrete subtypes of the `TangentialInductionModel` class. Neither takes any arguments, and as the name suggests, the `DefaultTangentialInduction` is the default model provided to the `BEM`."
   ]
  },
  {
   "cell_type": "code",
   "execution_count": null,
   "metadata": {},
   "outputs": [],
   "source": [
    "tangential_induction_model = mr.DefaultTangentialInduction()"
   ]
  },
  {
   "cell_type": "markdown",
   "metadata": {},
   "source": [
    "### Aerodynamic Model"
   ]
  },
  {
   "cell_type": "markdown",
   "metadata": {},
   "source": [
    "There are two options for aerodynamic models, `KraghAerodynamics` and `DefaultAerodynamics`, both of which are concrete subtypes of the `AerodynamicModel` class. They do not take any arguments, and are called internally to get the needed `AerodynamicProperties` for our calculations. As the name suggests, `DefaultAerodynamics` is the default for the BEM unless otherwise specified. The `KraghAerodynamics` class is based off the model in the 2014 paper: [Load alleviation of wind turbines by yaw misalignment](https://doi.org/10.1002/we.1612)."
   ]
  },
  {
   "cell_type": "code",
   "execution_count": null,
   "metadata": {},
   "outputs": [],
   "source": [
    "default_aerodynamic_model = mr.DefaultAerodynamics()\n",
    "kragh_aerodynamic_model = mr.KraghAerodynamics()"
   ]
  },
  {
   "cell_type": "markdown",
   "metadata": {},
   "source": [
    "### BEM Model\n",
    "\n",
    "At this point, we can use all of the previously defined objects to create our `BEM`."
   ]
  },
  {
   "cell_type": "code",
   "execution_count": null,
   "metadata": {},
   "outputs": [],
   "source": [
    "bem_model = mr.BEM(\n",
    "    rotor = rotor_15mw,\n",
    "    geometry = rotor_geometry,\n",
    "    tiploss_model = prandtl_tip_loss,\n",
    "    momentum_model = unified_momentum_model,\n",
    "    tangential_induction_model = tangential_induction_model,\n",
    "    aerodynamic_model = kragh_aerodynamic_model\n",
    ")"
   ]
  },
  {
   "cell_type": "markdown",
   "metadata": {},
   "source": [
    "## BEM Solutions"
   ]
  },
  {
   "cell_type": "markdown",
   "metadata": {},
   "source": [
    "Now that we have defined a BEM model, we can solve for a `BEMSolution`. You can pass `pitch`, tip speed ratio (`tsr`), and `yaw` to the `BEM` model. This call will return a `BEMSolution`. Here we examine the solution for BEM created above with $0^\\circ$ pitch, a value of 7 for the tip speed ratio, and $20^\\circ$ yaw. For more information on what information can be retrieved from a `BEMSolution`, see the `BEMSolver.py` file."
   ]
  },
  {
   "cell_type": "code",
   "execution_count": null,
   "metadata": {},
   "outputs": [],
   "source": [
    "pitch, tsr, yaw = np.deg2rad(0), 7.0, np.deg2rad(20.0)\n",
    "sol = bem_model(pitch, tsr, yaw)\n",
    "\n",
    "# Print various quantities in BEM solution\n",
    "if sol.converged:\n",
    "    print(f\"BEM solution converged in {sol.niter} iterations.\")\n",
    "else:\n",
    "    print(\"BEM solution did NOT converge!\")\n",
    "\n",
    "print(f\"Control setpoints: {sol.pitch=:2.2f}, {sol.tsr=:2.2f}, {sol.yaw=:2.2f}\")\n",
    "print(f\"Power coefficient: {sol.Cp():2.2f}\")\n",
    "print(f\"Thrust coefficient: {sol.Ct():2.2f}\")\n",
    "print(f\"Local thrust coefficient: {sol.Ctprime():2.2f}\")\n",
    "print(f\"Axial induction: {sol.a():2.2f}\")\n",
    "print(f\"Rotor-effective windspeed: {sol.U():2.2f}\")\n",
    "print(f\"Far-wake streamwise velocity: {sol.u4:2.2f}\")\n",
    "print(f\"Far-wake lateral velocity: {sol.v4:2.2f}\")\n"
   ]
  },
  {
   "cell_type": "markdown",
   "metadata": {},
   "source": [
    "Now that we know that the BEM solution converged, we can look at the values of `C_p`, `C_T`, and `a_n` radially over the rotor."
   ]
  },
  {
   "cell_type": "code",
   "execution_count": null,
   "metadata": {},
   "outputs": [],
   "source": [
    "fig, axes = plt.subplots(3, 1, sharex=True)\n",
    "axes[0].plot(sol.geom.mu, sol.Cp(grid=\"annulus\"), label=\"$C_P$\")\n",
    "axes[1].plot(sol.geom.mu, sol.Ct(grid=\"annulus\"), label=\"$C_T$\")\n",
    "axes[2].plot(sol.geom.mu, sol.a(grid=\"annulus\"), label=\"$a_n$\")\n",
    "\n",
    "[ax.legend(loc=\"lower center\") for ax in axes]\n",
    "axes[-1].set_xlabel(\"Radial position, $\\mu$ [-]\")\n",
    "plt.xlim(0, 1)"
   ]
  },
  {
   "cell_type": "markdown",
   "metadata": {},
   "source": [
    "If you're looking for a more exploratory script, see `example_03_pitch_tsr_contour.py`. If you're looking to run a simulation with multiple turbines in a wind farm configuration, see the quick start guide for `MITWindfarm`."
   ]
  }
 ],
 "metadata": {
  "kernelspec": {
   "display_name": "mitrotor-l4Gn_-ln-py3.12",
   "language": "python",
   "name": "python3"
  },
  "language_info": {
   "codemirror_mode": {
    "name": "ipython",
    "version": 3
   },
   "file_extension": ".py",
   "mimetype": "text/x-python",
   "name": "python",
   "nbconvert_exporter": "python",
   "pygments_lexer": "ipython3",
   "version": "3.12.11"
  }
 },
 "nbformat": 4,
 "nbformat_minor": 2
}
