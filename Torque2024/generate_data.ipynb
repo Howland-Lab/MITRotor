{
 "cells": [
  {
   "cell_type": "markdown",
   "metadata": {},
   "source": [
    "# Set up (Run these first)"
   ]
  },
  {
   "cell_type": "code",
   "execution_count": 1,
   "metadata": {},
   "outputs": [],
   "source": [
    "from pathlib import Path\n",
    "import os\n",
    "from itertools import product\n",
    "from typing import Dict, Tuple, List\n",
    "\n",
    "import numpy as np\n",
    "import polars as pl\n",
    "from foreach import foreach\n",
    "\n",
    "from MITRotor.ReferenceTurbines import IEA10MW\n",
    "from UnifiedMomentumModel.Utilities.FixedPointIteration import fixedpointiteration\n",
    "from MITRotor.BEM import BEM, BEMSolution\n",
    "\n",
    "\n",
    "pl.Config.set_tbl_cols(20)\n",
    "\n",
    "\n",
    "rootdir = Path(os.getcwd()).parent\n",
    "cachedir = rootdir / \"cache\"\n",
    "cachedir.mkdir(exist_ok=True, parents=True)\n",
    "\n",
    "PITCHES = np.deg2rad(np.arange(-15, 30, 1))\n",
    "TSRS = np.arange(0, 20, 0.25)\n",
    "YAWS = np.deg2rad(np.arange(0, 51, 2.5))\n",
    "\n",
    "# For control trajectories\n",
    "CTPRIMES = np.arange(0.1, 5, 0.2)\n",
    "\n",
    "bem = BEM(IEA15MW())\n"
   ]
  },
  {
   "cell_type": "markdown",
   "metadata": {},
   "source": [
    "## Helper functions"
   ]
  },
  {
   "cell_type": "code",
   "execution_count": 2,
   "metadata": {},
   "outputs": [],
   "source": [
    "# Output\n",
    "\n",
    "\n",
    "def extract_output(sol: BEMSolution) -> Dict[str, float]:\n",
    "    \"\"\"\n",
    "    Extract the output from a bem object and return a consistent dictionary.\n",
    "    - Returns essential values for output dataframe.\n",
    "    - If bem is not converged, returns data with nans.\n",
    "    \"\"\"\n",
    "    if sol.converged:\n",
    "        return dict(\n",
    "            pitch=np.round(np.rad2deg(sol.pitch), 4),\n",
    "            tsr=sol.tsr,\n",
    "            yaw=np.round(np.rad2deg(sol.yaw), 4),\n",
    "            Cp=sol.Cp(),\n",
    "            Ct=sol.Ct(),\n",
    "            Ctprime=sol.Ctprime(),\n",
    "            a=sol.a(),\n",
    "            u4=sol.u4(),\n",
    "            v4=sol.v4(),\n",
    "        )\n",
    "    else:\n",
    "        return dict(\n",
    "            pitch=np.round(np.rad2deg(sol.pitch), 4),\n",
    "            tsr=sol.tsr,\n",
    "            yaw=np.round(np.rad2deg(sol.yaw), 4),\n",
    "            Cp=np.nan,\n",
    "            Ct=np.nan,\n",
    "            Ctprime=np.nan,\n",
    "            a=np.nan,\n",
    "            u4=np.nan,\n",
    "            v4=np.nan,\n",
    "        )"
   ]
  },
  {
   "cell_type": "code",
   "execution_count": 3,
   "metadata": {},
   "outputs": [],
   "source": [
    "# Parallel looper\n",
    "\n",
    "\n",
    "def generate_partial(func, params: list, data_type: str, fn_out: Path, parallel=True):\n",
    "    \"\"\"\n",
    "    Generates data from BEM code by doing the following:\n",
    "    - Runs input function in parallel for all parameter sets listed in params.\n",
    "    - Saves data in dataframe. Adds the data_type column.\n",
    "    - Saves dataframe to fn_out as csv.\n",
    "    \"\"\"\n",
    "    out = foreach(func, params, parallel=parallel)\n",
    "\n",
    "    df = pl.from_dicts(out).with_columns(pl.lit(data_type).alias(\"data_type\"))\n",
    "\n",
    "    df.write_csv(fn_out)\n",
    "    print(f\"{data_type} data written to {fn_out}\")\n",
    "\n",
    "    return df"
   ]
  },
  {
   "cell_type": "markdown",
   "metadata": {},
   "source": [
    "## Calculate zero-yaw optimum"
   ]
  },
  {
   "cell_type": "code",
   "execution_count": 6,
   "metadata": {},
   "outputs": [
    {
     "name": "stdout",
     "output_type": "stream",
     "text": [
      "np.rad2deg(PITCH_OPT)=-1.4355\n",
      "TSR_OPT=8.9627\n",
      "CP_OPT=0.5078\n"
     ]
    }
   ],
   "source": [
    "from BEM_root_finding import find_optimal_setpoint\n",
    "\n",
    "PITCH_OPT, TSR_OPT, _ = find_optimal_setpoint(bem, yaw=0)\n",
    "CP_OPT = bem(PITCH_OPT, TSR_OPT, 0).Cp()\n",
    "\n",
    "print(f\"{np.rad2deg(PITCH_OPT)=:2.4f}\")\n",
    "print(f\"{TSR_OPT=:2.4f}\")\n",
    "print(f\"{CP_OPT=:2.4f}\")"
   ]
  },
  {
   "cell_type": "markdown",
   "metadata": {},
   "source": [
    "# Data Generation (each cell can be run individually)"
   ]
  },
  {
   "cell_type": "markdown",
   "metadata": {},
   "source": [
    "### Contour\n",
    "Loop over pitch, tsr and yaw."
   ]
  },
  {
   "cell_type": "code",
   "execution_count": 7,
   "metadata": {},
   "outputs": [
    {
     "name": "stderr",
     "output_type": "stream",
     "text": [
      "/home/jaime/Repositories/MITRotor/MITRotor/BEM.py:352: RuntimeWarning: divide by zero encountered in true_divide\n",
      "  aero_props.solidity / (4 * np.maximum(geom.mu, 0.1) ** 2 * tsr * (1 - aero_props.an) * np.cos(yaw)) * tangential_integral\n",
      "/home/jaime/Repositories/MITRotor/MITRotor/BEM.py:352: RuntimeWarning: divide by zero encountered in true_divide\n",
      "  aero_props.solidity / (4 * np.maximum(geom.mu, 0.1) ** 2 * tsr * (1 - aero_props.an) * np.cos(yaw)) * tangential_integral\n",
      "/home/jaime/Repositories/MITRotor/MITRotor/BEM.py:352: RuntimeWarning: divide by zero encountered in true_divide\n",
      "  aero_props.solidity / (4 * np.maximum(geom.mu, 0.1) ** 2 * tsr * (1 - aero_props.an) * np.cos(yaw)) * tangential_integral\n",
      "/home/jaime/Repositories/MITRotor/MITRotor/BEM.py:352: RuntimeWarning: divide by zero encountered in true_divide\n",
      "  aero_props.solidity / (4 * np.maximum(geom.mu, 0.1) ** 2 * tsr * (1 - aero_props.an) * np.cos(yaw)) * tangential_integral\n",
      "/home/jaime/Repositories/MITRotor/MITRotor/BEM.py:352: RuntimeWarning: divide by zero encountered in true_divide\n",
      "  aero_props.solidity / (4 * np.maximum(geom.mu, 0.1) ** 2 * tsr * (1 - aero_props.an) * np.cos(yaw)) * tangential_integral\n",
      "/home/jaime/Repositories/MITRotor/MITRotor/BEM.py:352: RuntimeWarning: divide by zero encountered in true_divide\n",
      "  aero_props.solidity / (4 * np.maximum(geom.mu, 0.1) ** 2 * tsr * (1 - aero_props.an) * np.cos(yaw)) * tangential_integral\n",
      "/home/jaime/Repositories/MITRotor/MITRotor/BEM.py:352: RuntimeWarning: divide by zero encountered in true_divide\n",
      "  aero_props.solidity / (4 * np.maximum(geom.mu, 0.1) ** 2 * tsr * (1 - aero_props.an) * np.cos(yaw)) * tangential_integral\n",
      "/home/jaime/Repositories/MITRotor/MITRotor/BEM.py:352: RuntimeWarning: divide by zero encountered in true_divide\n",
      "  aero_props.solidity / (4 * np.maximum(geom.mu, 0.1) ** 2 * tsr * (1 - aero_props.an) * np.cos(yaw)) * tangential_integral\n",
      "/home/jaime/Repositories/MITRotor/MITRotor/BEM.py:352: RuntimeWarning: divide by zero encountered in true_divide\n",
      "  aero_props.solidity / (4 * np.maximum(geom.mu, 0.1) ** 2 * tsr * (1 - aero_props.an) * np.cos(yaw)) * tangential_integral\n",
      "/home/jaime/Repositories/MITRotor/MITRotor/BEM.py:352: RuntimeWarning: divide by zero encountered in true_divide\n",
      "  aero_props.solidity / (4 * np.maximum(geom.mu, 0.1) ** 2 * tsr * (1 - aero_props.an) * np.cos(yaw)) * tangential_integral\n",
      "/home/jaime/Repositories/MITRotor/MITRotor/BEM.py:352: RuntimeWarning: divide by zero encountered in true_divide\n",
      "  aero_props.solidity / (4 * np.maximum(geom.mu, 0.1) ** 2 * tsr * (1 - aero_props.an) * np.cos(yaw)) * tangential_integral\n",
      "/home/jaime/Repositories/MITRotor/MITRotor/BEM.py:325: RuntimeWarning: invalid value encountered in multiply\n",
      "  Vtan = (1 + aprime[..., None]) * tsr * geom.mu_mesh - U * (1 - an[..., None]) * np.cos(\n",
      "/home/jaime/Repositories/MITRotor/MITRotor/BEM.py:325: RuntimeWarning: invalid value encountered in multiply\n",
      "  Vtan = (1 + aprime[..., None]) * tsr * geom.mu_mesh - U * (1 - an[..., None]) * np.cos(\n",
      "/home/jaime/Repositories/MITRotor/MITRotor/BEM.py:325: RuntimeWarning: invalid value encountered in multiply\n",
      "  Vtan = (1 + aprime[..., None]) * tsr * geom.mu_mesh - U * (1 - an[..., None]) * np.cos(\n",
      "/home/jaime/Repositories/MITRotor/MITRotor/BEM.py:325: RuntimeWarning: invalid value encountered in multiply\n",
      "  Vtan = (1 + aprime[..., None]) * tsr * geom.mu_mesh - U * (1 - an[..., None]) * np.cos(\n",
      "/home/jaime/Repositories/MITRotor/MITRotor/BEM.py:325: RuntimeWarning: invalid value encountered in multiply\n",
      "  Vtan = (1 + aprime[..., None]) * tsr * geom.mu_mesh - U * (1 - an[..., None]) * np.cos(\n",
      "/home/jaime/Repositories/MITRotor/MITRotor/BEM.py:352: RuntimeWarning: divide by zero encountered in true_divide\n",
      "  aero_props.solidity / (4 * np.maximum(geom.mu, 0.1) ** 2 * tsr * (1 - aero_props.an) * np.cos(yaw)) * tangential_integral\n",
      "/home/jaime/Repositories/MITRotor/MITRotor/BEM.py:352: RuntimeWarning: divide by zero encountered in true_divide\n",
      "  aero_props.solidity / (4 * np.maximum(geom.mu, 0.1) ** 2 * tsr * (1 - aero_props.an) * np.cos(yaw)) * tangential_integral\n",
      "/home/jaime/Repositories/MITRotor/MITRotor/BEM.py:325: RuntimeWarning: invalid value encountered in multiply\n",
      "  Vtan = (1 + aprime[..., None]) * tsr * geom.mu_mesh - U * (1 - an[..., None]) * np.cos(\n",
      "/home/jaime/Repositories/MITRotor/MITRotor/BEM.py:325: RuntimeWarning: invalid value encountered in multiply\n",
      "  Vtan = (1 + aprime[..., None]) * tsr * geom.mu_mesh - U * (1 - an[..., None]) * np.cos(\n",
      "  0%|          | 0/75600 [00:00<?, ?it/s]/home/jaime/Repositories/MITRotor/MITRotor/BEM.py:325: RuntimeWarning: invalid value encountered in multiply\n",
      "  Vtan = (1 + aprime[..., None]) * tsr * geom.mu_mesh - U * (1 - an[..., None]) * np.cos(\n",
      "/home/jaime/Repositories/MITRotor/MITRotor/BEM.py:352: RuntimeWarning: divide by zero encountered in true_divide\n",
      "  aero_props.solidity / (4 * np.maximum(geom.mu, 0.1) ** 2 * tsr * (1 - aero_props.an) * np.cos(yaw)) * tangential_integral\n",
      "/home/jaime/Repositories/MITRotor/MITRotor/BEM.py:325: RuntimeWarning: invalid value encountered in multiply\n",
      "  Vtan = (1 + aprime[..., None]) * tsr * geom.mu_mesh - U * (1 - an[..., None]) * np.cos(\n",
      "/home/jaime/Repositories/MITRotor/MITRotor/BEM.py:352: RuntimeWarning: divide by zero encountered in true_divide\n",
      "  aero_props.solidity / (4 * np.maximum(geom.mu, 0.1) ** 2 * tsr * (1 - aero_props.an) * np.cos(yaw)) * tangential_integral\n",
      "/home/jaime/Repositories/MITRotor/MITRotor/BEM.py:325: RuntimeWarning: invalid value encountered in multiply\n",
      "  Vtan = (1 + aprime[..., None]) * tsr * geom.mu_mesh - U * (1 - an[..., None]) * np.cos(\n",
      "/home/jaime/Repositories/MITRotor/MITRotor/BEM.py:352: RuntimeWarning: divide by zero encountered in true_divide\n",
      "  aero_props.solidity / (4 * np.maximum(geom.mu, 0.1) ** 2 * tsr * (1 - aero_props.an) * np.cos(yaw)) * tangential_integral\n",
      "/home/jaime/Repositories/MITRotor/MITRotor/BEM.py:325: RuntimeWarning: invalid value encountered in multiply\n",
      "  Vtan = (1 + aprime[..., None]) * tsr * geom.mu_mesh - U * (1 - an[..., None]) * np.cos(\n",
      "/home/jaime/Repositories/MITRotor/MITRotor/BEM.py:325: RuntimeWarning: invalid value encountered in multiply\n",
      "  Vtan = (1 + aprime[..., None]) * tsr * geom.mu_mesh - U * (1 - an[..., None]) * np.cos(\n",
      "/home/jaime/Repositories/MITRotor/.venv/lib/python3.8/site-packages/UnifiedMomentumModel/Utilities/FixedPointIteration.py:56: RuntimeWarning: All-NaN slice encountered\n",
      "  max_resid = [np.nanmax(np.abs(_r)) for _r in residuals]\n",
      "/home/jaime/Repositories/MITRotor/.venv/lib/python3.8/site-packages/UnifiedMomentumModel/Utilities/FixedPointIteration.py:56: RuntimeWarning: All-NaN slice encountered\n",
      "  max_resid = [np.nanmax(np.abs(_r)) for _r in residuals]\n",
      "/home/jaime/Repositories/MITRotor/MITRotor/BEM.py:325: RuntimeWarning: invalid value encountered in multiply\n",
      "  Vtan = (1 + aprime[..., None]) * tsr * geom.mu_mesh - U * (1 - an[..., None]) * np.cos(\n",
      "/home/jaime/Repositories/MITRotor/.venv/lib/python3.8/site-packages/UnifiedMomentumModel/Utilities/FixedPointIteration.py:56: RuntimeWarning: All-NaN slice encountered\n",
      "  max_resid = [np.nanmax(np.abs(_r)) for _r in residuals]\n",
      "/home/jaime/Repositories/MITRotor/.venv/lib/python3.8/site-packages/UnifiedMomentumModel/Utilities/FixedPointIteration.py:56: RuntimeWarning: All-NaN slice encountered\n",
      "  max_resid = [np.nanmax(np.abs(_r)) for _r in residuals]\n",
      "/home/jaime/Repositories/MITRotor/.venv/lib/python3.8/site-packages/UnifiedMomentumModel/Utilities/FixedPointIteration.py:56: RuntimeWarning: All-NaN slice encountered\n",
      "  max_resid = [np.nanmax(np.abs(_r)) for _r in residuals]\n",
      "/home/jaime/Repositories/MITRotor/MITRotor/BEM.py:325: RuntimeWarning: invalid value encountered in multiply\n",
      "  Vtan = (1 + aprime[..., None]) * tsr * geom.mu_mesh - U * (1 - an[..., None]) * np.cos(\n",
      "/home/jaime/Repositories/MITRotor/.venv/lib/python3.8/site-packages/UnifiedMomentumModel/Utilities/FixedPointIteration.py:56: RuntimeWarning: All-NaN slice encountered\n",
      "  max_resid = [np.nanmax(np.abs(_r)) for _r in residuals]\n",
      "/home/jaime/Repositories/MITRotor/.venv/lib/python3.8/site-packages/UnifiedMomentumModel/Utilities/FixedPointIteration.py:56: RuntimeWarning: All-NaN slice encountered\n",
      "  max_resid = [np.nanmax(np.abs(_r)) for _r in residuals]\n",
      "/home/jaime/Repositories/MITRotor/MITRotor/BEM.py:325: RuntimeWarning: invalid value encountered in multiply\n",
      "  Vtan = (1 + aprime[..., None]) * tsr * geom.mu_mesh - U * (1 - an[..., None]) * np.cos(\n",
      "/home/jaime/Repositories/MITRotor/.venv/lib/python3.8/site-packages/UnifiedMomentumModel/Utilities/FixedPointIteration.py:56: RuntimeWarning: All-NaN slice encountered\n",
      "  max_resid = [np.nanmax(np.abs(_r)) for _r in residuals]\n",
      "/home/jaime/Repositories/MITRotor/.venv/lib/python3.8/site-packages/UnifiedMomentumModel/Utilities/FixedPointIteration.py:56: RuntimeWarning: All-NaN slice encountered\n",
      "  max_resid = [np.nanmax(np.abs(_r)) for _r in residuals]\n",
      "/home/jaime/Repositories/MITRotor/MITRotor/BEM.py:325: RuntimeWarning: invalid value encountered in multiply\n",
      "  Vtan = (1 + aprime[..., None]) * tsr * geom.mu_mesh - U * (1 - an[..., None]) * np.cos(\n",
      "/home/jaime/Repositories/MITRotor/.venv/lib/python3.8/site-packages/UnifiedMomentumModel/Utilities/FixedPointIteration.py:56: RuntimeWarning: All-NaN slice encountered\n",
      "  max_resid = [np.nanmax(np.abs(_r)) for _r in residuals]\n",
      "/home/jaime/Repositories/MITRotor/.venv/lib/python3.8/site-packages/UnifiedMomentumModel/Utilities/FixedPointIteration.py:56: RuntimeWarning: All-NaN slice encountered\n",
      "  max_resid = [np.nanmax(np.abs(_r)) for _r in residuals]\n",
      "/home/jaime/Repositories/MITRotor/.venv/lib/python3.8/site-packages/UnifiedMomentumModel/Utilities/FixedPointIteration.py:56: RuntimeWarning: All-NaN slice encountered\n",
      "  max_resid = [np.nanmax(np.abs(_r)) for _r in residuals]\n",
      "/home/jaime/Repositories/MITRotor/.venv/lib/python3.8/site-packages/UnifiedMomentumModel/Utilities/FixedPointIteration.py:56: RuntimeWarning: All-NaN slice encountered\n",
      "  max_resid = [np.nanmax(np.abs(_r)) for _r in residuals]\n",
      "/home/jaime/Repositories/MITRotor/.venv/lib/python3.8/site-packages/UnifiedMomentumModel/Utilities/FixedPointIteration.py:56: RuntimeWarning: All-NaN slice encountered\n",
      "  max_resid = [np.nanmax(np.abs(_r)) for _r in residuals]\n",
      "/home/jaime/Repositories/MITRotor/.venv/lib/python3.8/site-packages/UnifiedMomentumModel/Utilities/FixedPointIteration.py:56: RuntimeWarning: All-NaN slice encountered\n",
      "  max_resid = [np.nanmax(np.abs(_r)) for _r in residuals]\n",
      "/home/jaime/Repositories/MITRotor/.venv/lib/python3.8/site-packages/UnifiedMomentumModel/Utilities/FixedPointIteration.py:56: RuntimeWarning: All-NaN slice encountered\n",
      "  max_resid = [np.nanmax(np.abs(_r)) for _r in residuals]\n",
      "/home/jaime/Repositories/MITRotor/.venv/lib/python3.8/site-packages/UnifiedMomentumModel/Utilities/FixedPointIteration.py:56: RuntimeWarning: All-NaN axis encountered\n",
      "  max_resid = [np.nanmax(np.abs(_r)) for _r in residuals]\n",
      "/home/jaime/Repositories/MITRotor/.venv/lib/python3.8/site-packages/UnifiedMomentumModel/Utilities/FixedPointIteration.py:56: RuntimeWarning: All-NaN axis encountered\n",
      "  max_resid = [np.nanmax(np.abs(_r)) for _r in residuals]\n",
      "/home/jaime/Repositories/MITRotor/.venv/lib/python3.8/site-packages/UnifiedMomentumModel/Utilities/FixedPointIteration.py:56: RuntimeWarning: All-NaN axis encountered\n",
      "  max_resid = [np.nanmax(np.abs(_r)) for _r in residuals]\n",
      "/home/jaime/Repositories/MITRotor/.venv/lib/python3.8/site-packages/UnifiedMomentumModel/Utilities/FixedPointIteration.py:56: RuntimeWarning: All-NaN axis encountered\n",
      "  max_resid = [np.nanmax(np.abs(_r)) for _r in residuals]\n",
      "/home/jaime/Repositories/MITRotor/.venv/lib/python3.8/site-packages/UnifiedMomentumModel/Utilities/FixedPointIteration.py:56: RuntimeWarning: All-NaN axis encountered\n",
      "  max_resid = [np.nanmax(np.abs(_r)) for _r in residuals]\n",
      "/home/jaime/Repositories/MITRotor/.venv/lib/python3.8/site-packages/UnifiedMomentumModel/Utilities/FixedPointIteration.py:56: RuntimeWarning: All-NaN axis encountered\n",
      "  max_resid = [np.nanmax(np.abs(_r)) for _r in residuals]\n",
      "/home/jaime/Repositories/MITRotor/.venv/lib/python3.8/site-packages/UnifiedMomentumModel/Utilities/FixedPointIteration.py:56: RuntimeWarning: All-NaN axis encountered\n",
      "  max_resid = [np.nanmax(np.abs(_r)) for _r in residuals]\n",
      "/home/jaime/Repositories/MITRotor/.venv/lib/python3.8/site-packages/UnifiedMomentumModel/Utilities/FixedPointIteration.py:56: RuntimeWarning: All-NaN axis encountered\n",
      "  max_resid = [np.nanmax(np.abs(_r)) for _r in residuals]\n",
      "/home/jaime/Repositories/MITRotor/.venv/lib/python3.8/site-packages/UnifiedMomentumModel/Utilities/FixedPointIteration.py:56: RuntimeWarning: All-NaN axis encountered\n",
      "  max_resid = [np.nanmax(np.abs(_r)) for _r in residuals]\n",
      "/home/jaime/Repositories/MITRotor/.venv/lib/python3.8/site-packages/UnifiedMomentumModel/Utilities/FixedPointIteration.py:56: RuntimeWarning: All-NaN axis encountered\n",
      "  max_resid = [np.nanmax(np.abs(_r)) for _r in residuals]\n",
      "/home/jaime/Repositories/MITRotor/.venv/lib/python3.8/site-packages/UnifiedMomentumModel/Utilities/FixedPointIteration.py:56: RuntimeWarning: All-NaN axis encountered\n",
      "  max_resid = [np.nanmax(np.abs(_r)) for _r in residuals]\n",
      "/home/jaime/Repositories/MITRotor/.venv/lib/python3.8/site-packages/UnifiedMomentumModel/Utilities/FixedPointIteration.py:56: RuntimeWarning: All-NaN axis encountered\n",
      "  max_resid = [np.nanmax(np.abs(_r)) for _r in residuals]\n",
      "  0%|          | 1/75600 [00:00<7:45:41,  2.71it/s]/home/jaime/Repositories/MITRotor/.venv/lib/python3.8/site-packages/UnifiedMomentumModel/Utilities/FixedPointIteration.py:56: RuntimeWarning: All-NaN axis encountered\n",
      "  max_resid = [np.nanmax(np.abs(_r)) for _r in residuals]\n",
      "/home/jaime/Repositories/MITRotor/.venv/lib/python3.8/site-packages/UnifiedMomentumModel/Utilities/FixedPointIteration.py:56: RuntimeWarning: All-NaN axis encountered\n",
      "  max_resid = [np.nanmax(np.abs(_r)) for _r in residuals]\n",
      "/home/jaime/Repositories/MITRotor/.venv/lib/python3.8/site-packages/UnifiedMomentumModel/Utilities/FixedPointIteration.py:56: RuntimeWarning: All-NaN axis encountered\n",
      "  max_resid = [np.nanmax(np.abs(_r)) for _r in residuals]\n",
      "/home/jaime/Repositories/MITRotor/.venv/lib/python3.8/site-packages/UnifiedMomentumModel/Utilities/FixedPointIteration.py:56: RuntimeWarning: All-NaN axis encountered\n",
      "  max_resid = [np.nanmax(np.abs(_r)) for _r in residuals]\n",
      "  1%|          | 806/75600 [00:01<01:15, 985.40it/s] /home/jaime/Repositories/MITRotor/.venv/lib/python3.8/site-packages/UnifiedMomentumModel/Momentum.py:94: RuntimeWarning: invalid value encountered in sqrt\n",
      "  e_a = 1 - np.sqrt(1 - u4**2 - v4**2) / (np.sqrt(Ctprime) * np.cos(yaw)) - a\n",
      "/home/jaime/Repositories/MITRotor/.venv/lib/python3.8/site-packages/UnifiedMomentumModel/Momentum.py:94: RuntimeWarning: invalid value encountered in sqrt\n",
      "  e_a = 1 - np.sqrt(1 - u4**2 - v4**2) / (np.sqrt(Ctprime) * np.cos(yaw)) - a\n",
      "/home/jaime/Repositories/MITRotor/.venv/lib/python3.8/site-packages/UnifiedMomentumModel/Momentum.py:94: RuntimeWarning: invalid value encountered in sqrt\n",
      "  e_a = 1 - np.sqrt(1 - u4**2 - v4**2) / (np.sqrt(Ctprime) * np.cos(yaw)) - a\n",
      "/home/jaime/Repositories/MITRotor/.venv/lib/python3.8/site-packages/UnifiedMomentumModel/Momentum.py:94: RuntimeWarning: invalid value encountered in sqrt\n",
      "  e_a = 1 - np.sqrt(1 - u4**2 - v4**2) / (np.sqrt(Ctprime) * np.cos(yaw)) - a\n",
      "/home/jaime/Repositories/MITRotor/.venv/lib/python3.8/site-packages/UnifiedMomentumModel/Momentum.py:94: RuntimeWarning: invalid value encountered in sqrt\n",
      "  e_a = 1 - np.sqrt(1 - u4**2 - v4**2) / (np.sqrt(Ctprime) * np.cos(yaw)) - a\n",
      "/home/jaime/Repositories/MITRotor/.venv/lib/python3.8/site-packages/UnifiedMomentumModel/Momentum.py:94: RuntimeWarning: invalid value encountered in sqrt\n",
      "  e_a = 1 - np.sqrt(1 - u4**2 - v4**2) / (np.sqrt(Ctprime) * np.cos(yaw)) - a\n",
      "/home/jaime/Repositories/MITRotor/.venv/lib/python3.8/site-packages/UnifiedMomentumModel/Momentum.py:94: RuntimeWarning: invalid value encountered in sqrt\n",
      "  e_a = 1 - np.sqrt(1 - u4**2 - v4**2) / (np.sqrt(Ctprime) * np.cos(yaw)) - a\n",
      "/home/jaime/Repositories/MITRotor/.venv/lib/python3.8/site-packages/UnifiedMomentumModel/Momentum.py:94: RuntimeWarning: invalid value encountered in sqrt\n",
      "  e_a = 1 - np.sqrt(1 - u4**2 - v4**2) / (np.sqrt(Ctprime) * np.cos(yaw)) - a\n",
      "/home/jaime/Repositories/MITRotor/.venv/lib/python3.8/site-packages/UnifiedMomentumModel/Momentum.py:94: RuntimeWarning: invalid value encountered in sqrt\n",
      "  e_a = 1 - np.sqrt(1 - u4**2 - v4**2) / (np.sqrt(Ctprime) * np.cos(yaw)) - a\n",
      "/home/jaime/Repositories/MITRotor/.venv/lib/python3.8/site-packages/UnifiedMomentumModel/Momentum.py:94: RuntimeWarning: invalid value encountered in sqrt\n",
      "  e_a = 1 - np.sqrt(1 - u4**2 - v4**2) / (np.sqrt(Ctprime) * np.cos(yaw)) - a\n",
      "/home/jaime/Repositories/MITRotor/.venv/lib/python3.8/site-packages/UnifiedMomentumModel/Momentum.py:94: RuntimeWarning: invalid value encountered in sqrt\n",
      "  e_a = 1 - np.sqrt(1 - u4**2 - v4**2) / (np.sqrt(Ctprime) * np.cos(yaw)) - a\n",
      "/home/jaime/Repositories/MITRotor/.venv/lib/python3.8/site-packages/UnifiedMomentumModel/Momentum.py:94: RuntimeWarning: invalid value encountered in sqrt\n",
      "  e_a = 1 - np.sqrt(1 - u4**2 - v4**2) / (np.sqrt(Ctprime) * np.cos(yaw)) - a\n",
      "/home/jaime/Repositories/MITRotor/.venv/lib/python3.8/site-packages/UnifiedMomentumModel/Momentum.py:94: RuntimeWarning: invalid value encountered in sqrt\n",
      "  e_a = 1 - np.sqrt(1 - u4**2 - v4**2) / (np.sqrt(Ctprime) * np.cos(yaw)) - a\n",
      "/home/jaime/Repositories/MITRotor/.venv/lib/python3.8/site-packages/UnifiedMomentumModel/Momentum.py:94: RuntimeWarning: invalid value encountered in sqrt\n",
      "  e_a = 1 - np.sqrt(1 - u4**2 - v4**2) / (np.sqrt(Ctprime) * np.cos(yaw)) - a\n",
      "/home/jaime/Repositories/MITRotor/.venv/lib/python3.8/site-packages/UnifiedMomentumModel/Momentum.py:94: RuntimeWarning: invalid value encountered in sqrt\n",
      "  e_a = 1 - np.sqrt(1 - u4**2 - v4**2) / (np.sqrt(Ctprime) * np.cos(yaw)) - a\n",
      "/home/jaime/Repositories/MITRotor/.venv/lib/python3.8/site-packages/UnifiedMomentumModel/Momentum.py:94: RuntimeWarning: invalid value encountered in sqrt\n",
      "  e_a = 1 - np.sqrt(1 - u4**2 - v4**2) / (np.sqrt(Ctprime) * np.cos(yaw)) - a\n",
      "  1%|          | 917/75600 [00:01<02:36, 476.98it/s]/home/jaime/Repositories/MITRotor/MITRotor/ThrustInduction.py:165: RuntimeWarning: invalid value encountered in sqrt\n",
      "  + np.sqrt(-(Ct_rotor**2) * np.sin(yaw) ** 2 - 16 * Ct_rotor + 16)\n",
      "/home/jaime/Repositories/MITRotor/MITRotor/ThrustInduction.py:166: RuntimeWarning: invalid value encountered in sqrt\n",
      "  ) / (-4 + np.sqrt(-(Ct_rotor**2) * np.sin(yaw) ** 2 - 16 * Ct_rotor + 16))\n",
      "/home/jaime/Repositories/MITRotor/MITRotor/ThrustInduction.py:165: RuntimeWarning: invalid value encountered in sqrt\n",
      "  + np.sqrt(-(Ct_rotor**2) * np.sin(yaw) ** 2 - 16 * Ct_rotor + 16)\n",
      "/home/jaime/Repositories/MITRotor/MITRotor/ThrustInduction.py:165: RuntimeWarning: overflow encountered in double_scalars\n",
      "  + np.sqrt(-(Ct_rotor**2) * np.sin(yaw) ** 2 - 16 * Ct_rotor + 16)\n",
      "/home/jaime/Repositories/MITRotor/MITRotor/ThrustInduction.py:166: RuntimeWarning: invalid value encountered in sqrt\n",
      "  ) / (-4 + np.sqrt(-(Ct_rotor**2) * np.sin(yaw) ** 2 - 16 * Ct_rotor + 16))\n",
      "/home/jaime/Repositories/MITRotor/MITRotor/ThrustInduction.py:165: RuntimeWarning: invalid value encountered in double_scalars\n",
      "  + np.sqrt(-(Ct_rotor**2) * np.sin(yaw) ** 2 - 16 * Ct_rotor + 16)\n",
      "/home/jaime/Repositories/MITRotor/MITRotor/ThrustInduction.py:166: RuntimeWarning: overflow encountered in double_scalars\n",
      "  ) / (-4 + np.sqrt(-(Ct_rotor**2) * np.sin(yaw) ** 2 - 16 * Ct_rotor + 16))\n",
      "/home/jaime/Repositories/MITRotor/MITRotor/ThrustInduction.py:166: RuntimeWarning: invalid value encountered in double_scalars\n",
      "  ) / (-4 + np.sqrt(-(Ct_rotor**2) * np.sin(yaw) ** 2 - 16 * Ct_rotor + 16))\n",
      "/home/jaime/Repositories/MITRotor/MITRotor/ThrustInduction.py:165: RuntimeWarning: invalid value encountered in sqrt\n",
      "  + np.sqrt(-(Ct_rotor**2) * np.sin(yaw) ** 2 - 16 * Ct_rotor + 16)\n",
      "/home/jaime/Repositories/MITRotor/MITRotor/ThrustInduction.py:166: RuntimeWarning: invalid value encountered in sqrt\n",
      "  ) / (-4 + np.sqrt(-(Ct_rotor**2) * np.sin(yaw) ** 2 - 16 * Ct_rotor + 16))\n",
      "/home/jaime/Repositories/MITRotor/MITRotor/ThrustInduction.py:165: RuntimeWarning: invalid value encountered in sqrt\n",
      "  + np.sqrt(-(Ct_rotor**2) * np.sin(yaw) ** 2 - 16 * Ct_rotor + 16)\n",
      "/home/jaime/Repositories/MITRotor/MITRotor/ThrustInduction.py:165: RuntimeWarning: invalid value encountered in sqrt\n",
      "  + np.sqrt(-(Ct_rotor**2) * np.sin(yaw) ** 2 - 16 * Ct_rotor + 16)\n",
      "/home/jaime/Repositories/MITRotor/MITRotor/ThrustInduction.py:166: RuntimeWarning: invalid value encountered in sqrt\n",
      "  ) / (-4 + np.sqrt(-(Ct_rotor**2) * np.sin(yaw) ** 2 - 16 * Ct_rotor + 16))\n",
      "/home/jaime/Repositories/MITRotor/MITRotor/ThrustInduction.py:166: RuntimeWarning: invalid value encountered in sqrt\n",
      "  ) / (-4 + np.sqrt(-(Ct_rotor**2) * np.sin(yaw) ** 2 - 16 * Ct_rotor + 16))\n",
      "/home/jaime/Repositories/MITRotor/MITRotor/ThrustInduction.py:165: RuntimeWarning: invalid value encountered in sqrt\n",
      "  + np.sqrt(-(Ct_rotor**2) * np.sin(yaw) ** 2 - 16 * Ct_rotor + 16)\n",
      "/home/jaime/Repositories/MITRotor/MITRotor/ThrustInduction.py:165: RuntimeWarning: invalid value encountered in sqrt\n",
      "  + np.sqrt(-(Ct_rotor**2) * np.sin(yaw) ** 2 - 16 * Ct_rotor + 16)\n",
      "/home/jaime/Repositories/MITRotor/MITRotor/ThrustInduction.py:166: RuntimeWarning: invalid value encountered in sqrt\n",
      "  ) / (-4 + np.sqrt(-(Ct_rotor**2) * np.sin(yaw) ** 2 - 16 * Ct_rotor + 16))\n",
      "/home/jaime/Repositories/MITRotor/MITRotor/ThrustInduction.py:165: RuntimeWarning: invalid value encountered in sqrt\n",
      "  + np.sqrt(-(Ct_rotor**2) * np.sin(yaw) ** 2 - 16 * Ct_rotor + 16)\n",
      "/home/jaime/Repositories/MITRotor/MITRotor/ThrustInduction.py:166: RuntimeWarning: invalid value encountered in sqrt\n",
      "  ) / (-4 + np.sqrt(-(Ct_rotor**2) * np.sin(yaw) ** 2 - 16 * Ct_rotor + 16))\n",
      "/home/jaime/Repositories/MITRotor/MITRotor/ThrustInduction.py:166: RuntimeWarning: invalid value encountered in sqrt\n",
      "  ) / (-4 + np.sqrt(-(Ct_rotor**2) * np.sin(yaw) ** 2 - 16 * Ct_rotor + 16))\n",
      "/home/jaime/Repositories/MITRotor/MITRotor/ThrustInduction.py:165: RuntimeWarning: invalid value encountered in sqrt\n",
      "  + np.sqrt(-(Ct_rotor**2) * np.sin(yaw) ** 2 - 16 * Ct_rotor + 16)\n",
      "/home/jaime/Repositories/MITRotor/MITRotor/ThrustInduction.py:165: RuntimeWarning: invalid value encountered in sqrt\n",
      "  + np.sqrt(-(Ct_rotor**2) * np.sin(yaw) ** 2 - 16 * Ct_rotor + 16)\n",
      "/home/jaime/Repositories/MITRotor/MITRotor/ThrustInduction.py:166: RuntimeWarning: invalid value encountered in sqrt\n",
      "  ) / (-4 + np.sqrt(-(Ct_rotor**2) * np.sin(yaw) ** 2 - 16 * Ct_rotor + 16))\n",
      "/home/jaime/Repositories/MITRotor/MITRotor/ThrustInduction.py:166: RuntimeWarning: invalid value encountered in sqrt\n",
      "  ) / (-4 + np.sqrt(-(Ct_rotor**2) * np.sin(yaw) ** 2 - 16 * Ct_rotor + 16))\n",
      "/home/jaime/Repositories/MITRotor/MITRotor/ThrustInduction.py:165: RuntimeWarning: invalid value encountered in sqrt\n",
      "  + np.sqrt(-(Ct_rotor**2) * np.sin(yaw) ** 2 - 16 * Ct_rotor + 16)\n",
      "/home/jaime/Repositories/MITRotor/MITRotor/ThrustInduction.py:166: RuntimeWarning: invalid value encountered in sqrt\n",
      "  ) / (-4 + np.sqrt(-(Ct_rotor**2) * np.sin(yaw) ** 2 - 16 * Ct_rotor + 16))\n",
      "/home/jaime/Repositories/MITRotor/MITRotor/ThrustInduction.py:165: RuntimeWarning: invalid value encountered in sqrt\n",
      "  + np.sqrt(-(Ct_rotor**2) * np.sin(yaw) ** 2 - 16 * Ct_rotor + 16)\n",
      "/home/jaime/Repositories/MITRotor/MITRotor/ThrustInduction.py:166: RuntimeWarning: invalid value encountered in sqrt\n",
      "  ) / (-4 + np.sqrt(-(Ct_rotor**2) * np.sin(yaw) ** 2 - 16 * Ct_rotor + 16))\n",
      "/home/jaime/Repositories/MITRotor/MITRotor/ThrustInduction.py:165: RuntimeWarning: invalid value encountered in sqrt\n",
      "  + np.sqrt(-(Ct_rotor**2) * np.sin(yaw) ** 2 - 16 * Ct_rotor + 16)\n",
      "/home/jaime/Repositories/MITRotor/MITRotor/ThrustInduction.py:166: RuntimeWarning: invalid value encountered in sqrt\n",
      "  ) / (-4 + np.sqrt(-(Ct_rotor**2) * np.sin(yaw) ** 2 - 16 * Ct_rotor + 16))\n",
      "/home/jaime/Repositories/MITRotor/MITRotor/ThrustInduction.py:165: RuntimeWarning: invalid value encountered in sqrt\n",
      "  + np.sqrt(-(Ct_rotor**2) * np.sin(yaw) ** 2 - 16 * Ct_rotor + 16)\n",
      "/home/jaime/Repositories/MITRotor/MITRotor/ThrustInduction.py:165: RuntimeWarning: invalid value encountered in sqrt\n",
      "  + np.sqrt(-(Ct_rotor**2) * np.sin(yaw) ** 2 - 16 * Ct_rotor + 16)\n",
      "/home/jaime/Repositories/MITRotor/MITRotor/ThrustInduction.py:166: RuntimeWarning: invalid value encountered in sqrt\n",
      "  ) / (-4 + np.sqrt(-(Ct_rotor**2) * np.sin(yaw) ** 2 - 16 * Ct_rotor + 16))\n",
      "/home/jaime/Repositories/MITRotor/MITRotor/ThrustInduction.py:166: RuntimeWarning: invalid value encountered in sqrt\n",
      "  ) / (-4 + np.sqrt(-(Ct_rotor**2) * np.sin(yaw) ** 2 - 16 * Ct_rotor + 16))\n",
      "/home/jaime/Repositories/MITRotor/MITRotor/ThrustInduction.py:165: RuntimeWarning: invalid value encountered in sqrt\n",
      "  + np.sqrt(-(Ct_rotor**2) * np.sin(yaw) ** 2 - 16 * Ct_rotor + 16)\n",
      "/home/jaime/Repositories/MITRotor/MITRotor/ThrustInduction.py:166: RuntimeWarning: invalid value encountered in sqrt\n",
      "  ) / (-4 + np.sqrt(-(Ct_rotor**2) * np.sin(yaw) ** 2 - 16 * Ct_rotor + 16))\n",
      "/home/jaime/Repositories/MITRotor/MITRotor/ThrustInduction.py:165: RuntimeWarning: overflow encountered in double_scalars\n",
      "  + np.sqrt(-(Ct_rotor**2) * np.sin(yaw) ** 2 - 16 * Ct_rotor + 16)\n",
      "/home/jaime/Repositories/MITRotor/MITRotor/ThrustInduction.py:165: RuntimeWarning: invalid value encountered in double_scalars\n",
      "  + np.sqrt(-(Ct_rotor**2) * np.sin(yaw) ** 2 - 16 * Ct_rotor + 16)\n",
      "/home/jaime/Repositories/MITRotor/MITRotor/ThrustInduction.py:166: RuntimeWarning: overflow encountered in double_scalars\n",
      "  ) / (-4 + np.sqrt(-(Ct_rotor**2) * np.sin(yaw) ** 2 - 16 * Ct_rotor + 16))\n",
      "/home/jaime/Repositories/MITRotor/MITRotor/ThrustInduction.py:166: RuntimeWarning: invalid value encountered in double_scalars\n",
      "  ) / (-4 + np.sqrt(-(Ct_rotor**2) * np.sin(yaw) ** 2 - 16 * Ct_rotor + 16))\n",
      "  1%|▏         | 1000/75600 [00:03<08:32, 145.68it/s]/home/jaime/Repositories/MITRotor/MITRotor/ThrustInduction.py:165: RuntimeWarning: overflow encountered in double_scalars\n",
      "  + np.sqrt(-(Ct_rotor**2) * np.sin(yaw) ** 2 - 16 * Ct_rotor + 16)\n",
      "/home/jaime/Repositories/MITRotor/MITRotor/ThrustInduction.py:165: RuntimeWarning: invalid value encountered in double_scalars\n",
      "  + np.sqrt(-(Ct_rotor**2) * np.sin(yaw) ** 2 - 16 * Ct_rotor + 16)\n",
      "/home/jaime/Repositories/MITRotor/MITRotor/ThrustInduction.py:166: RuntimeWarning: overflow encountered in double_scalars\n",
      "  ) / (-4 + np.sqrt(-(Ct_rotor**2) * np.sin(yaw) ** 2 - 16 * Ct_rotor + 16))\n",
      "/home/jaime/Repositories/MITRotor/MITRotor/ThrustInduction.py:166: RuntimeWarning: invalid value encountered in double_scalars\n",
      "  ) / (-4 + np.sqrt(-(Ct_rotor**2) * np.sin(yaw) ** 2 - 16 * Ct_rotor + 16))\n",
      "  3%|▎         | 2595/75600 [00:15<10:21, 117.55it/s]/home/jaime/Repositories/MITRotor/MITRotor/ThrustInduction.py:165: RuntimeWarning: overflow encountered in double_scalars\n",
      "  + np.sqrt(-(Ct_rotor**2) * np.sin(yaw) ** 2 - 16 * Ct_rotor + 16)\n",
      "/home/jaime/Repositories/MITRotor/MITRotor/ThrustInduction.py:165: RuntimeWarning: invalid value encountered in double_scalars\n",
      "  + np.sqrt(-(Ct_rotor**2) * np.sin(yaw) ** 2 - 16 * Ct_rotor + 16)\n",
      "/home/jaime/Repositories/MITRotor/MITRotor/ThrustInduction.py:166: RuntimeWarning: overflow encountered in double_scalars\n",
      "  ) / (-4 + np.sqrt(-(Ct_rotor**2) * np.sin(yaw) ** 2 - 16 * Ct_rotor + 16))\n",
      "/home/jaime/Repositories/MITRotor/MITRotor/ThrustInduction.py:166: RuntimeWarning: invalid value encountered in double_scalars\n",
      "  ) / (-4 + np.sqrt(-(Ct_rotor**2) * np.sin(yaw) ** 2 - 16 * Ct_rotor + 16))\n",
      "  3%|▎         | 2633/75600 [00:17<21:12, 57.35it/s] /home/jaime/Repositories/MITRotor/MITRotor/ThrustInduction.py:165: RuntimeWarning: overflow encountered in double_scalars\n",
      "  + np.sqrt(-(Ct_rotor**2) * np.sin(yaw) ** 2 - 16 * Ct_rotor + 16)\n",
      "/home/jaime/Repositories/MITRotor/MITRotor/ThrustInduction.py:165: RuntimeWarning: invalid value encountered in double_scalars\n",
      "  + np.sqrt(-(Ct_rotor**2) * np.sin(yaw) ** 2 - 16 * Ct_rotor + 16)\n",
      "/home/jaime/Repositories/MITRotor/MITRotor/ThrustInduction.py:166: RuntimeWarning: overflow encountered in double_scalars\n",
      "  ) / (-4 + np.sqrt(-(Ct_rotor**2) * np.sin(yaw) ** 2 - 16 * Ct_rotor + 16))\n",
      "/home/jaime/Repositories/MITRotor/MITRotor/ThrustInduction.py:166: RuntimeWarning: invalid value encountered in double_scalars\n",
      "  ) / (-4 + np.sqrt(-(Ct_rotor**2) * np.sin(yaw) ** 2 - 16 * Ct_rotor + 16))\n",
      "  4%|▎         | 2654/75600 [00:18<30:03, 40.44it/s]/home/jaime/Repositories/MITRotor/MITRotor/ThrustInduction.py:165: RuntimeWarning: overflow encountered in double_scalars\n",
      "  + np.sqrt(-(Ct_rotor**2) * np.sin(yaw) ** 2 - 16 * Ct_rotor + 16)\n",
      "/home/jaime/Repositories/MITRotor/MITRotor/ThrustInduction.py:165: RuntimeWarning: invalid value encountered in double_scalars\n",
      "  + np.sqrt(-(Ct_rotor**2) * np.sin(yaw) ** 2 - 16 * Ct_rotor + 16)\n",
      "/home/jaime/Repositories/MITRotor/MITRotor/ThrustInduction.py:166: RuntimeWarning: overflow encountered in double_scalars\n",
      "  ) / (-4 + np.sqrt(-(Ct_rotor**2) * np.sin(yaw) ** 2 - 16 * Ct_rotor + 16))\n",
      "/home/jaime/Repositories/MITRotor/MITRotor/ThrustInduction.py:166: RuntimeWarning: invalid value encountered in double_scalars\n",
      "  ) / (-4 + np.sqrt(-(Ct_rotor**2) * np.sin(yaw) ** 2 - 16 * Ct_rotor + 16))\n",
      "  4%|▎         | 2673/75600 [00:19<41:43, 29.13it/s]/home/jaime/Repositories/MITRotor/MITRotor/ThrustInduction.py:165: RuntimeWarning: overflow encountered in double_scalars\n",
      "  + np.sqrt(-(Ct_rotor**2) * np.sin(yaw) ** 2 - 16 * Ct_rotor + 16)\n",
      "/home/jaime/Repositories/MITRotor/MITRotor/ThrustInduction.py:165: RuntimeWarning: invalid value encountered in double_scalars\n",
      "  + np.sqrt(-(Ct_rotor**2) * np.sin(yaw) ** 2 - 16 * Ct_rotor + 16)\n",
      "/home/jaime/Repositories/MITRotor/MITRotor/ThrustInduction.py:166: RuntimeWarning: overflow encountered in double_scalars\n",
      "  ) / (-4 + np.sqrt(-(Ct_rotor**2) * np.sin(yaw) ** 2 - 16 * Ct_rotor + 16))\n",
      "/home/jaime/Repositories/MITRotor/MITRotor/ThrustInduction.py:166: RuntimeWarning: invalid value encountered in double_scalars\n",
      "  ) / (-4 + np.sqrt(-(Ct_rotor**2) * np.sin(yaw) ** 2 - 16 * Ct_rotor + 16))\n",
      "  4%|▎         | 2708/75600 [00:20<49:46, 24.41it/s]/home/jaime/Repositories/MITRotor/MITRotor/ThrustInduction.py:165: RuntimeWarning: overflow encountered in double_scalars\n",
      "  + np.sqrt(-(Ct_rotor**2) * np.sin(yaw) ** 2 - 16 * Ct_rotor + 16)\n",
      "/home/jaime/Repositories/MITRotor/MITRotor/ThrustInduction.py:165: RuntimeWarning: invalid value encountered in double_scalars\n",
      "  + np.sqrt(-(Ct_rotor**2) * np.sin(yaw) ** 2 - 16 * Ct_rotor + 16)\n",
      "  4%|▎         | 2715/75600 [00:20<44:09, 27.51it/s]/home/jaime/Repositories/MITRotor/MITRotor/ThrustInduction.py:166: RuntimeWarning: overflow encountered in double_scalars\n",
      "  ) / (-4 + np.sqrt(-(Ct_rotor**2) * np.sin(yaw) ** 2 - 16 * Ct_rotor + 16))\n",
      "/home/jaime/Repositories/MITRotor/MITRotor/ThrustInduction.py:166: RuntimeWarning: invalid value encountered in double_scalars\n",
      "  ) / (-4 + np.sqrt(-(Ct_rotor**2) * np.sin(yaw) ** 2 - 16 * Ct_rotor + 16))\n",
      "  4%|▎         | 2732/75600 [00:21<49:30, 24.53it/s]/home/jaime/Repositories/MITRotor/MITRotor/ThrustInduction.py:165: RuntimeWarning: overflow encountered in double_scalars\n",
      "  + np.sqrt(-(Ct_rotor**2) * np.sin(yaw) ** 2 - 16 * Ct_rotor + 16)\n",
      "/home/jaime/Repositories/MITRotor/MITRotor/ThrustInduction.py:165: RuntimeWarning: invalid value encountered in double_scalars\n",
      "  + np.sqrt(-(Ct_rotor**2) * np.sin(yaw) ** 2 - 16 * Ct_rotor + 16)\n",
      "/home/jaime/Repositories/MITRotor/MITRotor/ThrustInduction.py:166: RuntimeWarning: overflow encountered in double_scalars\n",
      "  ) / (-4 + np.sqrt(-(Ct_rotor**2) * np.sin(yaw) ** 2 - 16 * Ct_rotor + 16))\n",
      "/home/jaime/Repositories/MITRotor/MITRotor/ThrustInduction.py:166: RuntimeWarning: invalid value encountered in double_scalars\n",
      "  ) / (-4 + np.sqrt(-(Ct_rotor**2) * np.sin(yaw) ** 2 - 16 * Ct_rotor + 16))\n",
      "  6%|▌         | 4305/75600 [00:36<17:22, 68.37it/s]  /home/jaime/Repositories/MITRotor/MITRotor/ThrustInduction.py:165: RuntimeWarning: overflow encountered in double_scalars\n",
      "  + np.sqrt(-(Ct_rotor**2) * np.sin(yaw) ** 2 - 16 * Ct_rotor + 16)\n",
      "/home/jaime/Repositories/MITRotor/MITRotor/ThrustInduction.py:165: RuntimeWarning: invalid value encountered in double_scalars\n",
      "  + np.sqrt(-(Ct_rotor**2) * np.sin(yaw) ** 2 - 16 * Ct_rotor + 16)\n",
      "/home/jaime/Repositories/MITRotor/MITRotor/ThrustInduction.py:166: RuntimeWarning: overflow encountered in double_scalars\n",
      "  ) / (-4 + np.sqrt(-(Ct_rotor**2) * np.sin(yaw) ** 2 - 16 * Ct_rotor + 16))\n",
      "/home/jaime/Repositories/MITRotor/MITRotor/ThrustInduction.py:166: RuntimeWarning: invalid value encountered in double_scalars\n",
      "  ) / (-4 + np.sqrt(-(Ct_rotor**2) * np.sin(yaw) ** 2 - 16 * Ct_rotor + 16))\n",
      "  6%|▌         | 4350/75600 [00:37<28:16, 41.99it/s]/home/jaime/Repositories/MITRotor/MITRotor/ThrustInduction.py:165: RuntimeWarning: overflow encountered in double_scalars\n",
      "  + np.sqrt(-(Ct_rotor**2) * np.sin(yaw) ** 2 - 16 * Ct_rotor + 16)\n",
      "/home/jaime/Repositories/MITRotor/MITRotor/ThrustInduction.py:165: RuntimeWarning: invalid value encountered in double_scalars\n",
      "  + np.sqrt(-(Ct_rotor**2) * np.sin(yaw) ** 2 - 16 * Ct_rotor + 16)\n",
      "/home/jaime/Repositories/MITRotor/MITRotor/ThrustInduction.py:166: RuntimeWarning: overflow encountered in double_scalars\n",
      "  ) / (-4 + np.sqrt(-(Ct_rotor**2) * np.sin(yaw) ** 2 - 16 * Ct_rotor + 16))\n",
      "/home/jaime/Repositories/MITRotor/MITRotor/ThrustInduction.py:166: RuntimeWarning: invalid value encountered in double_scalars\n",
      "  ) / (-4 + np.sqrt(-(Ct_rotor**2) * np.sin(yaw) ** 2 - 16 * Ct_rotor + 16))\n",
      "  6%|▌         | 4371/75600 [00:38<40:51, 29.05it/s]/home/jaime/Repositories/MITRotor/MITRotor/ThrustInduction.py:165: RuntimeWarning: overflow encountered in double_scalars\n",
      "  + np.sqrt(-(Ct_rotor**2) * np.sin(yaw) ** 2 - 16 * Ct_rotor + 16)\n",
      "/home/jaime/Repositories/MITRotor/MITRotor/ThrustInduction.py:165: RuntimeWarning: invalid value encountered in double_scalars\n",
      "  + np.sqrt(-(Ct_rotor**2) * np.sin(yaw) ** 2 - 16 * Ct_rotor + 16)\n",
      "/home/jaime/Repositories/MITRotor/MITRotor/ThrustInduction.py:166: RuntimeWarning: overflow encountered in double_scalars\n",
      "  ) / (-4 + np.sqrt(-(Ct_rotor**2) * np.sin(yaw) ** 2 - 16 * Ct_rotor + 16))\n",
      "/home/jaime/Repositories/MITRotor/MITRotor/ThrustInduction.py:166: RuntimeWarning: invalid value encountered in double_scalars\n",
      "  ) / (-4 + np.sqrt(-(Ct_rotor**2) * np.sin(yaw) ** 2 - 16 * Ct_rotor + 16))\n",
      "  6%|▌         | 4393/75600 [00:39<49:35, 23.93it/s]/home/jaime/Repositories/MITRotor/MITRotor/ThrustInduction.py:165: RuntimeWarning: overflow encountered in double_scalars\n",
      "  + np.sqrt(-(Ct_rotor**2) * np.sin(yaw) ** 2 - 16 * Ct_rotor + 16)\n",
      "/home/jaime/Repositories/MITRotor/MITRotor/ThrustInduction.py:165: RuntimeWarning: invalid value encountered in double_scalars\n",
      "  + np.sqrt(-(Ct_rotor**2) * np.sin(yaw) ** 2 - 16 * Ct_rotor + 16)\n",
      "/home/jaime/Repositories/MITRotor/MITRotor/ThrustInduction.py:166: RuntimeWarning: overflow encountered in double_scalars\n",
      "  ) / (-4 + np.sqrt(-(Ct_rotor**2) * np.sin(yaw) ** 2 - 16 * Ct_rotor + 16))\n",
      "/home/jaime/Repositories/MITRotor/MITRotor/ThrustInduction.py:166: RuntimeWarning: invalid value encountered in double_scalars\n",
      "  ) / (-4 + np.sqrt(-(Ct_rotor**2) * np.sin(yaw) ** 2 - 16 * Ct_rotor + 16))\n",
      "  6%|▌         | 4495/75600 [00:46<2:11:33,  9.01it/s]/home/jaime/Repositories/MITRotor/MITRotor/ThrustInduction.py:165: RuntimeWarning: overflow encountered in double_scalars\n",
      "  + np.sqrt(-(Ct_rotor**2) * np.sin(yaw) ** 2 - 16 * Ct_rotor + 16)\n",
      "  6%|▌         | 4499/75600 [00:47<2:00:53,  9.80it/s]/home/jaime/Repositories/MITRotor/MITRotor/ThrustInduction.py:165: RuntimeWarning: invalid value encountered in double_scalars\n",
      "  + np.sqrt(-(Ct_rotor**2) * np.sin(yaw) ** 2 - 16 * Ct_rotor + 16)\n",
      "/home/jaime/Repositories/MITRotor/MITRotor/ThrustInduction.py:166: RuntimeWarning: overflow encountered in double_scalars\n",
      "  ) / (-4 + np.sqrt(-(Ct_rotor**2) * np.sin(yaw) ** 2 - 16 * Ct_rotor + 16))\n",
      "/home/jaime/Repositories/MITRotor/MITRotor/ThrustInduction.py:166: RuntimeWarning: invalid value encountered in double_scalars\n",
      "  ) / (-4 + np.sqrt(-(Ct_rotor**2) * np.sin(yaw) ** 2 - 16 * Ct_rotor + 16))\n",
      "  8%|▊         | 6052/75600 [01:18<1:44:59, 11.04it/s]/home/jaime/Repositories/MITRotor/MITRotor/ThrustInduction.py:165: RuntimeWarning: overflow encountered in double_scalars\n",
      "  + np.sqrt(-(Ct_rotor**2) * np.sin(yaw) ** 2 - 16 * Ct_rotor + 16)\n",
      "  8%|▊         | 6054/75600 [01:19<1:57:13,  9.89it/s]/home/jaime/Repositories/MITRotor/MITRotor/ThrustInduction.py:165: RuntimeWarning: invalid value encountered in double_scalars\n",
      "  + np.sqrt(-(Ct_rotor**2) * np.sin(yaw) ** 2 - 16 * Ct_rotor + 16)\n",
      "/home/jaime/Repositories/MITRotor/MITRotor/ThrustInduction.py:166: RuntimeWarning: overflow encountered in double_scalars\n",
      "  ) / (-4 + np.sqrt(-(Ct_rotor**2) * np.sin(yaw) ** 2 - 16 * Ct_rotor + 16))\n",
      "/home/jaime/Repositories/MITRotor/MITRotor/ThrustInduction.py:166: RuntimeWarning: invalid value encountered in double_scalars\n",
      "  ) / (-4 + np.sqrt(-(Ct_rotor**2) * np.sin(yaw) ** 2 - 16 * Ct_rotor + 16))\n",
      "  8%|▊         | 6072/75600 [01:21<2:07:17,  9.10it/s]/home/jaime/Repositories/MITRotor/MITRotor/ThrustInduction.py:165: RuntimeWarning: overflow encountered in double_scalars\n",
      "  + np.sqrt(-(Ct_rotor**2) * np.sin(yaw) ** 2 - 16 * Ct_rotor + 16)\n",
      "/home/jaime/Repositories/MITRotor/MITRotor/ThrustInduction.py:165: RuntimeWarning: invalid value encountered in double_scalars\n",
      "  + np.sqrt(-(Ct_rotor**2) * np.sin(yaw) ** 2 - 16 * Ct_rotor + 16)\n",
      "/home/jaime/Repositories/MITRotor/MITRotor/ThrustInduction.py:166: RuntimeWarning: overflow encountered in double_scalars\n",
      "  ) / (-4 + np.sqrt(-(Ct_rotor**2) * np.sin(yaw) ** 2 - 16 * Ct_rotor + 16))\n",
      "/home/jaime/Repositories/MITRotor/MITRotor/ThrustInduction.py:166: RuntimeWarning: invalid value encountered in double_scalars\n",
      "  ) / (-4 + np.sqrt(-(Ct_rotor**2) * np.sin(yaw) ** 2 - 16 * Ct_rotor + 16))\n",
      " 26%|██▋       | 19846/75600 [07:36<21:22, 43.49it/s]  \n"
     ]
    },
    {
     "ename": "KeyboardInterrupt",
     "evalue": "",
     "output_type": "error",
     "traceback": [
      "\u001b[0;31m---------------------------------------------------------------------------\u001b[0m",
      "\u001b[0;31mIndexError\u001b[0m                                Traceback (most recent call last)",
      "File \u001b[0;32m/usr/lib/python3.8/multiprocessing/pool.py:851\u001b[0m, in \u001b[0;36mIMapIterator.next\u001b[0;34m(self, timeout)\u001b[0m\n\u001b[1;32m    850\u001b[0m \u001b[39mtry\u001b[39;00m:\n\u001b[0;32m--> 851\u001b[0m     item \u001b[39m=\u001b[39m \u001b[39mself\u001b[39;49m\u001b[39m.\u001b[39;49m_items\u001b[39m.\u001b[39;49mpopleft()\n\u001b[1;32m    852\u001b[0m \u001b[39mexcept\u001b[39;00m \u001b[39mIndexError\u001b[39;00m:\n",
      "\u001b[0;31mIndexError\u001b[0m: pop from an empty deque",
      "\nDuring handling of the above exception, another exception occurred:\n",
      "\u001b[0;31mKeyboardInterrupt\u001b[0m                         Traceback (most recent call last)",
      "\u001b[1;32m/home/jaime/Repositories/MITRotor/Torque2024/generate_data.ipynb Cell 10\u001b[0m line \u001b[0;36m1\n\u001b[1;32m      <a href='vscode-notebook-cell:/home/jaime/Repositories/MITRotor/Torque2024/generate_data.ipynb#X12sZmlsZQ%3D%3D?line=6'>7</a>\u001b[0m     sol \u001b[39m=\u001b[39m bem(pitch, tsr, yaw)\n\u001b[1;32m      <a href='vscode-notebook-cell:/home/jaime/Repositories/MITRotor/Torque2024/generate_data.ipynb#X12sZmlsZQ%3D%3D?line=7'>8</a>\u001b[0m     \u001b[39mreturn\u001b[39;00m extract_output(sol)\n\u001b[0;32m---> <a href='vscode-notebook-cell:/home/jaime/Repositories/MITRotor/Torque2024/generate_data.ipynb#X12sZmlsZQ%3D%3D?line=10'>11</a>\u001b[0m generate_partial(contour_func, params, \u001b[39m\"\u001b[39;49m\u001b[39mcontour\u001b[39;49m\u001b[39m\"\u001b[39;49m, fn_out)\n",
      "\u001b[1;32m/home/jaime/Repositories/MITRotor/Torque2024/generate_data.ipynb Cell 10\u001b[0m line \u001b[0;36m1\n\u001b[1;32m      <a href='vscode-notebook-cell:/home/jaime/Repositories/MITRotor/Torque2024/generate_data.ipynb#X12sZmlsZQ%3D%3D?line=3'>4</a>\u001b[0m \u001b[39mdef\u001b[39;00m \u001b[39mgenerate_partial\u001b[39m(func, params: \u001b[39mlist\u001b[39m, data_type: \u001b[39mstr\u001b[39m, fn_out: Path, parallel\u001b[39m=\u001b[39m\u001b[39mTrue\u001b[39;00m):\n\u001b[1;32m      <a href='vscode-notebook-cell:/home/jaime/Repositories/MITRotor/Torque2024/generate_data.ipynb#X12sZmlsZQ%3D%3D?line=4'>5</a>\u001b[0m \u001b[39m    \u001b[39m\u001b[39m\"\"\"\u001b[39;00m\n\u001b[1;32m      <a href='vscode-notebook-cell:/home/jaime/Repositories/MITRotor/Torque2024/generate_data.ipynb#X12sZmlsZQ%3D%3D?line=5'>6</a>\u001b[0m \u001b[39m    Generates data from BEM code by doing the following:\u001b[39;00m\n\u001b[1;32m      <a href='vscode-notebook-cell:/home/jaime/Repositories/MITRotor/Torque2024/generate_data.ipynb#X12sZmlsZQ%3D%3D?line=6'>7</a>\u001b[0m \u001b[39m    - Runs input function in parallel for all parameter sets listed in params.\u001b[39;00m\n\u001b[1;32m      <a href='vscode-notebook-cell:/home/jaime/Repositories/MITRotor/Torque2024/generate_data.ipynb#X12sZmlsZQ%3D%3D?line=7'>8</a>\u001b[0m \u001b[39m    - Saves data in dataframe. Adds the data_type column.\u001b[39;00m\n\u001b[1;32m      <a href='vscode-notebook-cell:/home/jaime/Repositories/MITRotor/Torque2024/generate_data.ipynb#X12sZmlsZQ%3D%3D?line=8'>9</a>\u001b[0m \u001b[39m    - Saves dataframe to fn_out as csv.\u001b[39;00m\n\u001b[1;32m     <a href='vscode-notebook-cell:/home/jaime/Repositories/MITRotor/Torque2024/generate_data.ipynb#X12sZmlsZQ%3D%3D?line=9'>10</a>\u001b[0m \u001b[39m    \"\"\"\u001b[39;00m\n\u001b[0;32m---> <a href='vscode-notebook-cell:/home/jaime/Repositories/MITRotor/Torque2024/generate_data.ipynb#X12sZmlsZQ%3D%3D?line=10'>11</a>\u001b[0m     out \u001b[39m=\u001b[39m for_each(func, params, parallel\u001b[39m=\u001b[39;49mparallel)\n\u001b[1;32m     <a href='vscode-notebook-cell:/home/jaime/Repositories/MITRotor/Torque2024/generate_data.ipynb#X12sZmlsZQ%3D%3D?line=12'>13</a>\u001b[0m     df \u001b[39m=\u001b[39m pl\u001b[39m.\u001b[39mfrom_dicts(out)\u001b[39m.\u001b[39mwith_columns(pl\u001b[39m.\u001b[39mlit(data_type)\u001b[39m.\u001b[39malias(\u001b[39m\"\u001b[39m\u001b[39mdata_type\u001b[39m\u001b[39m\"\u001b[39m))\n\u001b[1;32m     <a href='vscode-notebook-cell:/home/jaime/Repositories/MITRotor/Torque2024/generate_data.ipynb#X12sZmlsZQ%3D%3D?line=14'>15</a>\u001b[0m     df\u001b[39m.\u001b[39mwrite_csv(fn_out)\n",
      "File \u001b[0;32m~/Repositories/MITRotor/.venv/lib/python3.8/site-packages/UnifiedMomentumModel/Utilities/Other.py:11\u001b[0m, in \u001b[0;36mfor_each\u001b[0;34m(func, params, parallel)\u001b[0m\n\u001b[1;32m      9\u001b[0m \u001b[39mif\u001b[39;00m parallel:\n\u001b[1;32m     10\u001b[0m     \u001b[39mwith\u001b[39;00m Pool() \u001b[39mas\u001b[39;00m pool:\n\u001b[0;32m---> 11\u001b[0m         \u001b[39mfor\u001b[39;00m x \u001b[39min\u001b[39;00m tqdm(\n\u001b[1;32m     12\u001b[0m             pool\u001b[39m.\u001b[39mimap(\n\u001b[1;32m     13\u001b[0m                 func,\n\u001b[1;32m     14\u001b[0m                 params,\n\u001b[1;32m     15\u001b[0m             ),\n\u001b[1;32m     16\u001b[0m             total\u001b[39m=\u001b[39mN,\n\u001b[1;32m     17\u001b[0m         ):\n\u001b[1;32m     18\u001b[0m             out\u001b[39m.\u001b[39mappend(x)\n\u001b[1;32m     19\u001b[0m     \u001b[39mreturn\u001b[39;00m out\n",
      "File \u001b[0;32m~/Repositories/MITRotor/.venv/lib/python3.8/site-packages/tqdm/std.py:1182\u001b[0m, in \u001b[0;36mtqdm.__iter__\u001b[0;34m(self)\u001b[0m\n\u001b[1;32m   1179\u001b[0m time \u001b[39m=\u001b[39m \u001b[39mself\u001b[39m\u001b[39m.\u001b[39m_time\n\u001b[1;32m   1181\u001b[0m \u001b[39mtry\u001b[39;00m:\n\u001b[0;32m-> 1182\u001b[0m     \u001b[39mfor\u001b[39;00m obj \u001b[39min\u001b[39;00m iterable:\n\u001b[1;32m   1183\u001b[0m         \u001b[39myield\u001b[39;00m obj\n\u001b[1;32m   1184\u001b[0m         \u001b[39m# Update and possibly print the progressbar.\u001b[39;00m\n\u001b[1;32m   1185\u001b[0m         \u001b[39m# Note: does not call self.update(1) for speed optimisation.\u001b[39;00m\n",
      "File \u001b[0;32m/usr/lib/python3.8/multiprocessing/pool.py:856\u001b[0m, in \u001b[0;36mIMapIterator.next\u001b[0;34m(self, timeout)\u001b[0m\n\u001b[1;32m    854\u001b[0m     \u001b[39mself\u001b[39m\u001b[39m.\u001b[39m_pool \u001b[39m=\u001b[39m \u001b[39mNone\u001b[39;00m\n\u001b[1;32m    855\u001b[0m     \u001b[39mraise\u001b[39;00m \u001b[39mStopIteration\u001b[39;00m \u001b[39mfrom\u001b[39;00m \u001b[39mNone\u001b[39;00m\n\u001b[0;32m--> 856\u001b[0m \u001b[39mself\u001b[39;49m\u001b[39m.\u001b[39;49m_cond\u001b[39m.\u001b[39;49mwait(timeout)\n\u001b[1;32m    857\u001b[0m \u001b[39mtry\u001b[39;00m:\n\u001b[1;32m    858\u001b[0m     item \u001b[39m=\u001b[39m \u001b[39mself\u001b[39m\u001b[39m.\u001b[39m_items\u001b[39m.\u001b[39mpopleft()\n",
      "File \u001b[0;32m/usr/lib/python3.8/threading.py:302\u001b[0m, in \u001b[0;36mCondition.wait\u001b[0;34m(self, timeout)\u001b[0m\n\u001b[1;32m    300\u001b[0m \u001b[39mtry\u001b[39;00m:    \u001b[39m# restore state no matter what (e.g., KeyboardInterrupt)\u001b[39;00m\n\u001b[1;32m    301\u001b[0m     \u001b[39mif\u001b[39;00m timeout \u001b[39mis\u001b[39;00m \u001b[39mNone\u001b[39;00m:\n\u001b[0;32m--> 302\u001b[0m         waiter\u001b[39m.\u001b[39;49macquire()\n\u001b[1;32m    303\u001b[0m         gotit \u001b[39m=\u001b[39m \u001b[39mTrue\u001b[39;00m\n\u001b[1;32m    304\u001b[0m     \u001b[39melse\u001b[39;00m:\n",
      "\u001b[0;31mKeyboardInterrupt\u001b[0m: "
     ]
    }
   ],
   "source": [
    "fn_out = cachedir / \"partial_pitch_tsr_surface.csv\"\n",
    "params = list(product(PITCHES, TSRS, YAWS))\n",
    "\n",
    "\n",
    "def contour_func(x):\n",
    "    pitch, tsr, yaw = x\n",
    "    sol = bem(pitch, tsr, yaw)\n",
    "    return extract_output(sol)\n",
    "\n",
    "\n",
    "generate_partial(contour_func, params, \"contour\", fn_out)"
   ]
  },
  {
   "cell_type": "markdown",
   "metadata": {},
   "source": [
    "### Global Optimal\n",
    "Loop over yaw"
   ]
  },
  {
   "cell_type": "code",
   "execution_count": null,
   "metadata": {},
   "outputs": [
    {
     "name": "stderr",
     "output_type": "stream",
     "text": [
      "100%|██████████| 21/21 [00:03<00:00,  5.52it/s]"
     ]
    },
    {
     "name": "stdout",
     "output_type": "stream",
     "text": [
      "optimal data written to /home/jaime/Repositories/Torque2024_AD_vs_BEM/cache/partial_optimal_setpoints.csv\n"
     ]
    },
    {
     "name": "stderr",
     "output_type": "stream",
     "text": [
      "\n"
     ]
    }
   ],
   "source": [
    "fn_out = cachedir / \"partial_optimal_setpoints.csv\"\n",
    "params = YAWS\n",
    "\n",
    "\n",
    "def func(x):\n",
    "    yaw = x\n",
    "    setpoint = find_optimal_setpoint(bem, yaw=yaw)\n",
    "    sol = bem(*setpoint)\n",
    "    return extract_output(sol)\n",
    "\n",
    "\n",
    "generate_partial(func, params, \"optimal\", fn_out)"
   ]
  },
  {
   "cell_type": "markdown",
   "metadata": {},
   "source": [
    "### Constant $\\lambda$\n",
    "Loop over yaw"
   ]
  },
  {
   "cell_type": "code",
   "execution_count": 9,
   "metadata": {},
   "outputs": [
    {
     "name": "stderr",
     "output_type": "stream",
     "text": [
      "100%|██████████| 21/21 [00:00<00:00, 3108.10it/s]"
     ]
    },
    {
     "name": "stdout",
     "output_type": "stream",
     "text": [
      "constant_tsr data written to /home/jaime/Repositories/Torque2024_AD_vs_BEM/cache/partial_constant_tsr.csv\n"
     ]
    },
    {
     "name": "stderr",
     "output_type": "stream",
     "text": [
      "\n"
     ]
    }
   ],
   "source": [
    "fn_out = cachedir / \"partial_constant_tsr.csv\"\n",
    "params = YAWS\n",
    "\n",
    "\n",
    "def func(x):\n",
    "    yaw = x\n",
    "    sol = bem(PITCH_OPT, TSR_OPT, yaw)\n",
    "    return extract_output(sol)\n",
    "\n",
    "\n",
    "generate_partial(func, params, \"constant_tsr\", fn_out)"
   ]
  },
  {
   "cell_type": "markdown",
   "metadata": {},
   "source": [
    "### $K-\\Omega^2$\n",
    "Loop over yaw"
   ]
  },
  {
   "cell_type": "code",
   "execution_count": 6,
   "metadata": {},
   "outputs": [
    {
     "name": "stderr",
     "output_type": "stream",
     "text": [
      "100%|██████████| 21/21 [00:00<00:00, 45.03it/s]"
     ]
    },
    {
     "name": "stdout",
     "output_type": "stream",
     "text": [
      "k-omega data written to /home/jaime/Repositories/Torque2024_AD_vs_BEM/cache/partial_k-omega_optimal.csv\n"
     ]
    },
    {
     "name": "stderr",
     "output_type": "stream",
     "text": [
      "\n"
     ]
    },
    {
     "data": {
      "text/html": [
       "<div><style>\n",
       ".dataframe > thead > tr > th,\n",
       ".dataframe > tbody > tr > td {\n",
       "  text-align: right;\n",
       "}\n",
       "</style>\n",
       "<small>shape: (21, 10)</small><table border=\"1\" class=\"dataframe\"><thead><tr><th>pitch</th><th>tsr</th><th>yaw</th><th>Cp</th><th>Ct</th><th>Ctprime</th><th>a</th><th>u4</th><th>v4</th><th>data_type</th></tr><tr><td>f64</td><td>f64</td><td>f64</td><td>f64</td><td>f64</td><td>f64</td><td>f64</td><td>f64</td><td>f64</td><td>str</td></tr></thead><tbody><tr><td>-2.6079</td><td>8.477629</td><td>0.0</td><td>0.52844</td><td>0.860062</td><td>1.822063</td><td>0.312958</td><td>0.374083</td><td>-0.0</td><td>&quot;k-omega&quot;</td></tr><tr><td>-2.6079</td><td>8.474002</td><td>2.5</td><td>0.527762</td><td>0.859315</td><td>1.821991</td><td>0.312589</td><td>0.374963</td><td>-0.009371</td><td>&quot;k-omega&quot;</td></tr><tr><td>-2.6079</td><td>8.463194</td><td>5.0</td><td>0.525745</td><td>0.857119</td><td>1.822054</td><td>0.311513</td><td>0.377534</td><td>-0.018676</td><td>&quot;k-omega&quot;</td></tr><tr><td>-2.6079</td><td>8.445163</td><td>7.5</td><td>0.522392</td><td>0.853493</td><td>1.822447</td><td>0.309754</td><td>0.381747</td><td>-0.027851</td><td>&quot;k-omega&quot;</td></tr><tr><td>-2.6079</td><td>8.419761</td><td>10.0</td><td>0.517692</td><td>0.848419</td><td>1.823201</td><td>0.307314</td><td>0.387588</td><td>-0.036832</td><td>&quot;k-omega&quot;</td></tr><tr><td>-2.6079</td><td>8.386747</td><td>12.5</td><td>0.511627</td><td>0.841855</td><td>1.824271</td><td>0.304187</td><td>0.395056</td><td>-0.045553</td><td>&quot;k-omega&quot;</td></tr><tr><td>-2.6079</td><td>8.345852</td><td>15.0</td><td>0.504179</td><td>0.833761</td><td>1.825662</td><td>0.300373</td><td>0.404139</td><td>-0.053948</td><td>&quot;k-omega&quot;</td></tr><tr><td>-2.6079</td><td>8.296746</td><td>17.5</td><td>0.495331</td><td>0.824093</td><td>1.82741</td><td>0.295874</td><td>0.414812</td><td>-0.061952</td><td>&quot;k-omega&quot;</td></tr><tr><td>-2.6079</td><td>8.239037</td><td>20.0</td><td>0.485067</td><td>0.812805</td><td>1.829565</td><td>0.290694</td><td>0.427042</td><td>-0.069499</td><td>&quot;k-omega&quot;</td></tr><tr><td>-2.6079</td><td>8.172239</td><td>22.5</td><td>0.473364</td><td>0.799832</td><td>1.832106</td><td>0.284831</td><td>0.440809</td><td>-0.076521</td><td>&quot;k-omega&quot;</td></tr><tr><td>-2.6079</td><td>8.095812</td><td>25.0</td><td>0.460208</td><td>0.785108</td><td>1.835037</td><td>0.278284</td><td>0.456083</td><td>-0.08295</td><td>&quot;k-omega&quot;</td></tr><tr><td>-2.6079</td><td>8.009221</td><td>27.5</td><td>0.445598</td><td>0.768582</td><td>1.838451</td><td>0.271063</td><td>0.472806</td><td>-0.088723</td><td>&quot;k-omega&quot;</td></tr><tr><td>-2.6079</td><td>7.911913</td><td>30.0</td><td>0.429553</td><td>0.750216</td><td>1.842497</td><td>0.263184</td><td>0.490907</td><td>-0.093777</td><td>&quot;k-omega&quot;</td></tr><tr><td>-2.6079</td><td>7.803267</td><td>32.5</td><td>0.412099</td><td>0.729977</td><td>1.847348</td><td>0.254666</td><td>0.510302</td><td>-0.098054</td><td>&quot;k-omega&quot;</td></tr><tr><td>-2.6079</td><td>7.682559</td><td>35.0</td><td>0.393269</td><td>0.707808</td><td>1.853037</td><td>0.245514</td><td>0.530933</td><td>-0.101496</td><td>&quot;k-omega&quot;</td></tr><tr><td>-2.6079</td><td>7.549106</td><td>37.5</td><td>0.373129</td><td>0.683697</td><td>1.859784</td><td>0.235753</td><td>0.552699</td><td>-0.104052</td><td>&quot;k-omega&quot;</td></tr><tr><td>-2.6079</td><td>7.402146</td><td>40.0</td><td>0.351759</td><td>0.65762</td><td>1.867717</td><td>0.225399</td><td>0.57551</td><td>-0.105677</td><td>&quot;k-omega&quot;</td></tr><tr><td>-2.6079</td><td>7.240944</td><td>42.5</td><td>0.329274</td><td>0.629599</td><td>1.87713</td><td>0.214486</td><td>0.599244</td><td>-0.106338</td><td>&quot;k-omega&quot;</td></tr><tr><td>-2.6079</td><td>7.064785</td><td>45.0</td><td>0.305822</td><td>0.59968</td><td>1.888382</td><td>0.203052</td><td>0.623765</td><td>-0.106009</td><td>&quot;k-omega&quot;</td></tr><tr><td>-2.6079</td><td>6.87297</td><td>47.5</td><td>0.281582</td><td>0.567932</td><td>1.901886</td><td>0.191142</td><td>0.64893</td><td>-0.104681</td><td>&quot;k-omega&quot;</td></tr><tr><td>-2.6079</td><td>6.664644</td><td>50.0</td><td>0.256746</td><td>0.534425</td><td>1.91798</td><td>0.178791</td><td>0.674611</td><td>-0.102348</td><td>&quot;k-omega&quot;</td></tr></tbody></table></div>"
      ],
      "text/plain": [
       "shape: (21, 10)\n",
       "┌─────────┬──────────┬──────┬──────────┬─────────┬─────────┬─────────┬─────────┬─────────┬─────────┐\n",
       "│ pitch   ┆ tsr      ┆ yaw  ┆ Cp       ┆ Ct      ┆ Ctprime ┆ a       ┆ u4      ┆ v4      ┆ data_ty │\n",
       "│ ---     ┆ ---      ┆ ---  ┆ ---      ┆ ---     ┆ ---     ┆ ---     ┆ ---     ┆ ---     ┆ pe      │\n",
       "│ f64     ┆ f64      ┆ f64  ┆ f64      ┆ f64     ┆ f64     ┆ f64     ┆ f64     ┆ f64     ┆ ---     │\n",
       "│         ┆          ┆      ┆          ┆         ┆         ┆         ┆         ┆         ┆ str     │\n",
       "╞═════════╪══════════╪══════╪══════════╪═════════╪═════════╪═════════╪═════════╪═════════╪═════════╡\n",
       "│ -2.6079 ┆ 8.477629 ┆ 0.0  ┆ 0.52844  ┆ 0.86006 ┆ 1.82206 ┆ 0.31295 ┆ 0.37408 ┆ -0.0    ┆ k-omega │\n",
       "│         ┆          ┆      ┆          ┆ 2       ┆ 3       ┆ 8       ┆ 3       ┆         ┆         │\n",
       "│ -2.6079 ┆ 8.474002 ┆ 2.5  ┆ 0.527762 ┆ 0.85931 ┆ 1.82199 ┆ 0.31258 ┆ 0.37496 ┆ -0.0093 ┆ k-omega │\n",
       "│         ┆          ┆      ┆          ┆ 5       ┆ 1       ┆ 9       ┆ 3       ┆ 71      ┆         │\n",
       "│ -2.6079 ┆ 8.463194 ┆ 5.0  ┆ 0.525745 ┆ 0.85711 ┆ 1.82205 ┆ 0.31151 ┆ 0.37753 ┆ -0.0186 ┆ k-omega │\n",
       "│         ┆          ┆      ┆          ┆ 9       ┆ 4       ┆ 3       ┆ 4       ┆ 76      ┆         │\n",
       "│ -2.6079 ┆ 8.445163 ┆ 7.5  ┆ 0.522392 ┆ 0.85349 ┆ 1.82244 ┆ 0.30975 ┆ 0.38174 ┆ -0.0278 ┆ k-omega │\n",
       "│         ┆          ┆      ┆          ┆ 3       ┆ 7       ┆ 4       ┆ 7       ┆ 51      ┆         │\n",
       "│ …       ┆ …        ┆ …    ┆ …        ┆ …       ┆ …       ┆ …       ┆ …       ┆ …       ┆ …       │\n",
       "│ -2.6079 ┆ 7.240944 ┆ 42.5 ┆ 0.329274 ┆ 0.62959 ┆ 1.87713 ┆ 0.21448 ┆ 0.59924 ┆ -0.1063 ┆ k-omega │\n",
       "│         ┆          ┆      ┆          ┆ 9       ┆         ┆ 6       ┆ 4       ┆ 38      ┆         │\n",
       "│ -2.6079 ┆ 7.064785 ┆ 45.0 ┆ 0.305822 ┆ 0.59968 ┆ 1.88838 ┆ 0.20305 ┆ 0.62376 ┆ -0.1060 ┆ k-omega │\n",
       "│         ┆          ┆      ┆          ┆         ┆ 2       ┆ 2       ┆ 5       ┆ 09      ┆         │\n",
       "│ -2.6079 ┆ 6.87297  ┆ 47.5 ┆ 0.281582 ┆ 0.56793 ┆ 1.90188 ┆ 0.19114 ┆ 0.64893 ┆ -0.1046 ┆ k-omega │\n",
       "│         ┆          ┆      ┆          ┆ 2       ┆ 6       ┆ 2       ┆         ┆ 81      ┆         │\n",
       "│ -2.6079 ┆ 6.664644 ┆ 50.0 ┆ 0.256746 ┆ 0.53442 ┆ 1.91798 ┆ 0.17879 ┆ 0.67461 ┆ -0.1023 ┆ k-omega │\n",
       "│         ┆          ┆      ┆          ┆ 5       ┆         ┆ 1       ┆ 1       ┆ 48      ┆         │\n",
       "└─────────┴──────────┴──────┴──────────┴─────────┴─────────┴─────────┴─────────┴─────────┴─────────┘"
      ]
     },
     "execution_count": 6,
     "metadata": {},
     "output_type": "execute_result"
    }
   ],
   "source": [
    "fn_out = cachedir / \"partial_k-omega_optimal.csv\"\n",
    "params = YAWS\n",
    "\n",
    "CP_ON_TSR3 = CP_OPT / TSR_OPT**3\n",
    "\n",
    "\n",
    "class KOmega:\n",
    "    def initial_guess(yaw):\n",
    "        return [7]\n",
    "\n",
    "    def residual(x, yaw):\n",
    "        tsr = x[0]\n",
    "        return np.cbrt(bem(PITCH_OPT, tsr, yaw).Cp() / CP_ON_TSR3) - tsr\n",
    "\n",
    "    def post_process(sol, yaw):\n",
    "        return extract_output(sol)\n",
    "\n",
    "\n",
    "def func(x):\n",
    "    yaw = x\n",
    "\n",
    "    def torque_control_residual(tsr):\n",
    "        sol = bem.solve(PITCH_OPT, tsr, yaw)\n",
    "\n",
    "        if sol.converged:\n",
    "            return np.cbrt(sol.Cp() / CP_ON_TSR3) - tsr\n",
    "\n",
    "    converged, tsr = fixedpointiteration(torque_control_residual, 7, relax=0.6, maxiter=200)\n",
    "    sol = bem.solve(PITCH_OPT, tsr, yaw)\n",
    "\n",
    "    return extract_output(sol)\n",
    "\n",
    "\n",
    "generate_partial(func, params, \"k-omega\", fn_out)"
   ]
  },
  {
   "cell_type": "markdown",
   "metadata": {},
   "source": [
    "### $C_T'$ minimizing trajectory"
   ]
  },
  {
   "cell_type": "code",
   "execution_count": 12,
   "metadata": {},
   "outputs": [
    {
     "name": "stderr",
     "output_type": "stream",
     "text": [
      "100%|██████████| 525/525 [08:40<00:00,  1.01it/s]"
     ]
    },
    {
     "name": "stdout",
     "output_type": "stream",
     "text": [
      "Ctprime_trajectory data written to /home/jaime/Repositories/Torque2024_AD_vs_BEM/cache/partial_setpoint_trajectories.csv\n"
     ]
    },
    {
     "name": "stderr",
     "output_type": "stream",
     "text": [
      "\n"
     ]
    }
   ],
   "source": [
    "from src.BEM_root_finding import find_power_maximising_Ctprime_setpoints\n",
    "\n",
    "fn_out = cachedir / \"partial_setpoint_trajectories.csv\"\n",
    "params = list(product(YAWS, CTPRIMES))\n",
    "\n",
    "\n",
    "def func(x):\n",
    "    yaw, ctprime = x\n",
    "    setpoint = find_power_maximising_Ctprime_setpoints(bem, ctprime, yaw=yaw)\n",
    "    sol = bem.solve(*setpoint)\n",
    "\n",
    "    return extract_output(sol)\n",
    "\n",
    "\n",
    "df_ctprime_min_traj = generate_partial(func, params, \"Ctprime_trajectory\", fn_out)"
   ]
  },
  {
   "cell_type": "markdown",
   "metadata": {},
   "source": [
    "### zero-yaw $C_T'$ minimizing trajectory"
   ]
  },
  {
   "cell_type": "code",
   "execution_count": 21,
   "metadata": {},
   "outputs": [
    {
     "name": "stderr",
     "output_type": "stream",
     "text": [
      "100%|██████████| 525/525 [00:02<00:00, 209.03it/s]"
     ]
    },
    {
     "name": "stdout",
     "output_type": "stream",
     "text": [
      "zero_yaw_Ctprime_trajectory data written to /home/jaime/Repositories/Torque2024_AD_vs_BEM/cache/partial_setpoint_zero_yaw_ctprime_minimizing_trajectories.csv\n"
     ]
    },
    {
     "name": "stderr",
     "output_type": "stream",
     "text": [
      "\n"
     ]
    }
   ],
   "source": [
    "from src.BEM_root_finding import find_power_maximising_Ctprime_setpoints\n",
    "\n",
    "# Load Ctprime minimising trajectory (from previous block)\n",
    "fn_previous = cachedir / \"partial_setpoint_trajectories.csv\"\n",
    "df = (\n",
    "    pl.read_csv(fn_previous)\n",
    "    .filter(pl.col(\"data_type\") == \"Ctprime_trajectory\")\n",
    "    .filter(pl.col(\"yaw\") == 0)\n",
    ")\n",
    "\n",
    "fn_out = cachedir / \"partial_setpoint_zero_yaw_ctprime_minimizing_trajectories.csv\"\n",
    "params = list(product(YAWS, CTPRIMES))\n",
    "\n",
    "\n",
    "def func(x):\n",
    "    yaw, ctprime = x\n",
    "\n",
    "    # pitch, tsr, _ = find_power_maximising_Ctprime_setpoints(bem, ctprime, yaw=0)\n",
    "    pitch, tsr = (\n",
    "        df.filter(pl.col(\"Ctprime\") - ctprime < 0.001)\n",
    "        .select(\"pitch\", \"tsr\")\n",
    "        .to_numpy()[0]\n",
    "    )\n",
    "\n",
    "    pitch = np.deg2rad(pitch)\n",
    "    sol = bem.solve(pitch, tsr, yaw)\n",
    "\n",
    "    return extract_output(sol)\n",
    "\n",
    "\n",
    "generate_partial(func, params, \"zero_yaw_Ctprime_trajectory\", fn_out, parallel=False)"
   ]
  },
  {
   "cell_type": "markdown",
   "metadata": {},
   "source": [
    "# Join DataFrames"
   ]
  },
  {
   "cell_type": "code",
   "execution_count": 22,
   "metadata": {},
   "outputs": [
    {
     "name": "stdout",
     "output_type": "stream",
     "text": [
      "shape: (76_713, 10)\n",
      "┌─────────┬──────────┬──────┬──────────┬─────────┬─────────┬─────────┬─────────┬─────────┬─────────┐\n",
      "│ pitch   ┆ tsr      ┆ yaw  ┆ Cp       ┆ Ct      ┆ Ctprime ┆ a       ┆ u4      ┆ v4      ┆ data_ty │\n",
      "│ ---     ┆ ---      ┆ ---  ┆ ---      ┆ ---     ┆ ---     ┆ ---     ┆ ---     ┆ ---     ┆ pe      │\n",
      "│ f64     ┆ f64      ┆ f64  ┆ f64      ┆ f64     ┆ f64     ┆ f64     ┆ f64     ┆ f64     ┆ ---     │\n",
      "│         ┆          ┆      ┆          ┆         ┆         ┆         ┆         ┆         ┆ str     │\n",
      "╞═════════╪══════════╪══════╪══════════╪═════════╪═════════╪═════════╪═════════╪═════════╪═════════╡\n",
      "│ -2.8712 ┆ 8.589028 ┆ 0.0  ┆ 0.513856 ┆ 0.84543 ┆ 1.74237 ┆ 0.30342 ┆ 0.39315 ┆ 0.0     ┆ constan │\n",
      "│         ┆          ┆      ┆          ┆ 2       ┆ 8       ┆ 4       ┆ 1       ┆         ┆ t_tsr   │\n",
      "│ -2.8712 ┆ 8.589028 ┆ 2.5  ┆ 0.513337 ┆ 0.84482 ┆ 1.74313 ┆ 0.30316 ┆ 0.39381 ┆ -0.0092 ┆ constan │\n",
      "│         ┆          ┆      ┆          ┆ 5       ┆ 4       ┆ 2       ┆ 5       ┆ 13      ┆ t_tsr   │\n",
      "│ -2.8712 ┆ 8.589028 ┆ 5.0  ┆ 0.511514 ┆ 0.84356 ┆ 1.74836 ┆ 0.30273 ┆ 0.39509 ┆ -0.0183 ┆ constan │\n",
      "│         ┆          ┆      ┆          ┆ 5       ┆ 5       ┆ 3       ┆ 2       ┆ 8       ┆ t_tsr   │\n",
      "│ -2.8712 ┆ 8.589028 ┆ 7.5  ┆ 0.508405 ┆ 0.84167 ┆ 1.75824 ┆ 0.30214 ┆ 0.39695 ┆ -0.0274 ┆ constan │\n",
      "│         ┆          ┆      ┆          ┆ 3       ┆ 8       ┆ 8       ┆ 4       ┆ 65      ┆ t_tsr   │\n",
      "│ …       ┆ …        ┆ …    ┆ …        ┆ …       ┆ …       ┆ …       ┆ …       ┆ …       ┆ …       │\n",
      "│ -2.8712 ┆ 7.348473 ┆ 42.5 ┆ 0.321811 ┆ 0.61585 ┆ 1.80806 ┆ 0.20840 ┆ 0.61100 ┆ -0.1040 ┆ k-omega │\n",
      "│         ┆          ┆      ┆          ┆ 7       ┆         ┆ 6       ┆ 2       ┆ 17      ┆         │\n",
      "│ -2.8712 ┆ 7.171396 ┆ 45.0 ┆ 0.299103 ┆ 0.58642 ┆ 1.82057 ┆ 0.19736 ┆ 0.63468 ┆ -0.1036 ┆ k-omega │\n",
      "│         ┆          ┆      ┆          ┆ 7       ┆ 7       ┆ 6       ┆ 6       ┆ 67      ┆         │\n",
      "│ -2.8712 ┆ 6.97854  ┆ 47.5 ┆ 0.275615 ┆ 0.55522 ┆ 1.83521 ┆ 0.18584 ┆ 0.65902 ┆ -0.1023 ┆ k-omega │\n",
      "│         ┆          ┆      ┆          ┆         ┆ 2       ┆ 7       ┆         ┆ 38      ┆         │\n",
      "│ -2.8712 ┆ 6.769203 ┆ 50.0 ┆ 0.251549 ┆ 0.52234 ┆ 1.85248 ┆ 0.17390 ┆ 0.68385 ┆ -0.1000 ┆ k-omega │\n",
      "│         ┆          ┆      ┆          ┆ 2       ┆ 8       ┆ 1       ┆         ┆ 34      ┆         │\n",
      "└─────────┴──────────┴──────┴──────────┴─────────┴─────────┴─────────┴─────────┴─────────┴─────────┘\n"
     ]
    }
   ],
   "source": [
    "files = list(cachedir.glob(\"partial*\"))\n",
    "\n",
    "df = pl.concat([pl.read_csv(fn) for fn in files])\n",
    "print(df)\n",
    "df.write_csv(cachedir / \"tsr_pitch_yaw.csv\")"
   ]
  },
  {
   "cell_type": "markdown",
   "metadata": {},
   "source": [
    "# BEM vs AD"
   ]
  },
  {
   "cell_type": "code",
   "execution_count": 2,
   "metadata": {},
   "outputs": [
    {
     "name": "stderr",
     "output_type": "stream",
     "text": [
      "100%|██████████| 620/620 [03:52<00:00,  2.67it/s]\n"
     ]
    },
    {
     "data": {
      "text/html": [
       "<div><style>\n",
       ".dataframe > thead > tr > th,\n",
       ".dataframe > tbody > tr > td {\n",
       "  text-align: right;\n",
       "}\n",
       "</style>\n",
       "<small>shape: (620, 10)</small><table border=\"1\" class=\"dataframe\"><thead><tr><th>rotor</th><th>Ctprime</th><th>yaw</th><th>Ct</th><th>Cp</th><th>a</th><th>u4</th><th>v4</th><th>Cp_ref</th><th>power_loss</th></tr><tr><td>str</td><td>f64</td><td>f64</td><td>f64</td><td>f64</td><td>f64</td><td>f64</td><td>f64</td><td>f64</td><td>f64</td></tr></thead><tbody><tr><td>&quot;AD&quot;</td><td>0.4</td><td>-30.0</td><td>0.257668</td><td>0.206805</td><td>0.073235</td><td>0.860985</td><td>0.032208</td><td>0.300526</td><td>0.688142</td></tr><tr><td>&quot;AD&quot;</td><td>0.4</td><td>-28.0</td><td>0.266547</td><td>0.217586</td><td>0.075468</td><td>0.855848</td><td>0.031284</td><td>0.300526</td><td>0.724017</td></tr><tr><td>&quot;AD&quot;</td><td>0.4</td><td>-26.0</td><td>0.274953</td><td>0.227959</td><td>0.077558</td><td>0.850965</td><td>0.030133</td><td>0.300526</td><td>0.758535</td></tr><tr><td>&quot;AD&quot;</td><td>0.4</td><td>-24.0</td><td>0.282853</td><td>0.237854</td><td>0.079508</td><td>0.846358</td><td>0.028762</td><td>0.300526</td><td>0.791459</td></tr><tr><td>&quot;AD&quot;</td><td>0.4</td><td>-22.0</td><td>0.290221</td><td>0.247208</td><td>0.081311</td><td>0.842046</td><td>0.02718</td><td>0.300526</td><td>0.822585</td></tr><tr><td>&quot;AD&quot;</td><td>0.4</td><td>-20.0</td><td>0.297033</td><td>0.255962</td><td>0.082964</td><td>0.838047</td><td>0.025398</td><td>0.300526</td><td>0.851715</td></tr><tr><td>&quot;AD&quot;</td><td>0.4</td><td>-18.0</td><td>0.303265</td><td>0.264061</td><td>0.084465</td><td>0.834378</td><td>0.023429</td><td>0.300526</td><td>0.878662</td></tr><tr><td>&quot;AD&quot;</td><td>0.4</td><td>-16.0</td><td>0.308898</td><td>0.271451</td><td>0.085812</td><td>0.831054</td><td>0.021286</td><td>0.300526</td><td>0.903254</td></tr><tr><td>&quot;AD&quot;</td><td>0.4</td><td>-14.0</td><td>0.313913</td><td>0.278089</td><td>0.087001</td><td>0.828087</td><td>0.018986</td><td>0.300526</td><td>0.92534</td></tr><tr><td>&quot;AD&quot;</td><td>0.4</td><td>-12.0</td><td>0.318291</td><td>0.283927</td><td>0.088036</td><td>0.825491</td><td>0.016544</td><td>0.300526</td><td>0.944768</td></tr><tr><td>&quot;AD&quot;</td><td>0.4</td><td>-10.0</td><td>0.322022</td><td>0.288934</td><td>0.08891</td><td>0.823277</td><td>0.01398</td><td>0.300526</td><td>0.961427</td></tr><tr><td>&quot;AD&quot;</td><td>0.4</td><td>-8.0</td><td>0.325089</td><td>0.293071</td><td>0.089629</td><td>0.821452</td><td>0.011311</td><td>0.300526</td><td>0.975195</td></tr><tr><td>&hellip;</td><td>&hellip;</td><td>&hellip;</td><td>&hellip;</td><td>&hellip;</td><td>&hellip;</td><td>&hellip;</td><td>&hellip;</td><td>&hellip;</td><td>&hellip;</td></tr><tr><td>&quot;AD&quot;</td><td>2.0</td><td>8.0</td><td>0.881774</td><td>0.585492</td><td>0.329481</td><td>0.342468</td><td>-0.03068</td><td>0.592593</td><td>0.988018</td></tr><tr><td>&quot;AD&quot;</td><td>2.0</td><td>10.0</td><td>0.877724</td><td>0.581463</td><td>0.327314</td><td>0.347597</td><td>-0.038104</td><td>0.592593</td><td>0.981219</td></tr><tr><td>&quot;AD&quot;</td><td>2.0</td><td>12.0</td><td>0.872728</td><td>0.576506</td><td>0.324664</td><td>0.353856</td><td>-0.045363</td><td>0.592593</td><td>0.972853</td></tr><tr><td>&quot;AD&quot;</td><td>2.0</td><td>14.0</td><td>0.866758</td><td>0.5706</td><td>0.321531</td><td>0.361239</td><td>-0.052422</td><td>0.592593</td><td>0.962888</td></tr><tr><td>&quot;AD&quot;</td><td>2.0</td><td>16.0</td><td>0.859784</td><td>0.563727</td><td>0.317916</td><td>0.369737</td><td>-0.059247</td><td>0.592593</td><td>0.95129</td></tr><tr><td>&quot;AD&quot;</td><td>2.0</td><td>18.0</td><td>0.85177</td><td>0.555864</td><td>0.313817</td><td>0.379341</td><td>-0.065803</td><td>0.592593</td><td>0.938021</td></tr><tr><td>&quot;AD&quot;</td><td>2.0</td><td>20.0</td><td>0.842678</td><td>0.546988</td><td>0.309235</td><td>0.390039</td><td>-0.072053</td><td>0.592593</td><td>0.923042</td></tr><tr><td>&quot;AD&quot;</td><td>2.0</td><td>22.0</td><td>0.832466</td><td>0.537075</td><td>0.304171</td><td>0.401817</td><td>-0.077962</td><td>0.592593</td><td>0.906313</td></tr><tr><td>&quot;AD&quot;</td><td>2.0</td><td>24.0</td><td>0.821089</td><td>0.526102</td><td>0.298626</td><td>0.414657</td><td>-0.083492</td><td>0.592593</td><td>0.887797</td></tr><tr><td>&quot;AD&quot;</td><td>2.0</td><td>26.0</td><td>0.808503</td><td>0.514052</td><td>0.292599</td><td>0.428539</td><td>-0.088606</td><td>0.592593</td><td>0.867463</td></tr><tr><td>&quot;AD&quot;</td><td>2.0</td><td>28.0</td><td>0.794661</td><td>0.500908</td><td>0.286094</td><td>0.443441</td><td>-0.093268</td><td>0.592593</td><td>0.845283</td></tr><tr><td>&quot;AD&quot;</td><td>2.0</td><td>30.0</td><td>0.779518</td><td>0.486658</td><td>0.279113</td><td>0.459334</td><td>-0.09744</td><td>0.592593</td><td>0.821236</td></tr></tbody></table></div>"
      ],
      "text/plain": [
       "shape: (620, 10)\n",
       "┌───────┬─────────┬───────┬──────────┬──────────┬─────────┬─────────┬─────────┬─────────┬──────────┐\n",
       "│ rotor ┆ Ctprime ┆ yaw   ┆ Ct       ┆ Cp       ┆ a       ┆ u4      ┆ v4      ┆ Cp_ref  ┆ power_lo │\n",
       "│ ---   ┆ ---     ┆ ---   ┆ ---      ┆ ---      ┆ ---     ┆ ---     ┆ ---     ┆ ---     ┆ ss       │\n",
       "│ str   ┆ f64     ┆ f64   ┆ f64      ┆ f64      ┆ f64     ┆ f64     ┆ f64     ┆ f64     ┆ ---      │\n",
       "│       ┆         ┆       ┆          ┆          ┆         ┆         ┆         ┆         ┆ f64      │\n",
       "╞═══════╪═════════╪═══════╪══════════╪══════════╪═════════╪═════════╪═════════╪═════════╪══════════╡\n",
       "│ AD    ┆ 0.4     ┆ -30.0 ┆ 0.257668 ┆ 0.206805 ┆ 0.07323 ┆ 0.86098 ┆ 0.03220 ┆ 0.30052 ┆ 0.688142 │\n",
       "│       ┆         ┆       ┆          ┆          ┆ 5       ┆ 5       ┆ 8       ┆ 6       ┆          │\n",
       "│ AD    ┆ 0.4     ┆ -28.0 ┆ 0.266547 ┆ 0.217586 ┆ 0.07546 ┆ 0.85584 ┆ 0.03128 ┆ 0.30052 ┆ 0.724017 │\n",
       "│       ┆         ┆       ┆          ┆          ┆ 8       ┆ 8       ┆ 4       ┆ 6       ┆          │\n",
       "│ AD    ┆ 0.4     ┆ -26.0 ┆ 0.274953 ┆ 0.227959 ┆ 0.07755 ┆ 0.85096 ┆ 0.03013 ┆ 0.30052 ┆ 0.758535 │\n",
       "│       ┆         ┆       ┆          ┆          ┆ 8       ┆ 5       ┆ 3       ┆ 6       ┆          │\n",
       "│ AD    ┆ 0.4     ┆ -24.0 ┆ 0.282853 ┆ 0.237854 ┆ 0.07950 ┆ 0.84635 ┆ 0.02876 ┆ 0.30052 ┆ 0.791459 │\n",
       "│       ┆         ┆       ┆          ┆          ┆ 8       ┆ 8       ┆ 2       ┆ 6       ┆          │\n",
       "│ …     ┆ …       ┆ …     ┆ …        ┆ …        ┆ …       ┆ …       ┆ …       ┆ …       ┆ …        │\n",
       "│ AD    ┆ 2.0     ┆ 24.0  ┆ 0.821089 ┆ 0.526102 ┆ 0.29862 ┆ 0.41465 ┆ -0.0834 ┆ 0.59259 ┆ 0.887797 │\n",
       "│       ┆         ┆       ┆          ┆          ┆ 6       ┆ 7       ┆ 92      ┆ 3       ┆          │\n",
       "│ AD    ┆ 2.0     ┆ 26.0  ┆ 0.808503 ┆ 0.514052 ┆ 0.29259 ┆ 0.42853 ┆ -0.0886 ┆ 0.59259 ┆ 0.867463 │\n",
       "│       ┆         ┆       ┆          ┆          ┆ 9       ┆ 9       ┆ 06      ┆ 3       ┆          │\n",
       "│ AD    ┆ 2.0     ┆ 28.0  ┆ 0.794661 ┆ 0.500908 ┆ 0.28609 ┆ 0.44344 ┆ -0.0932 ┆ 0.59259 ┆ 0.845283 │\n",
       "│       ┆         ┆       ┆          ┆          ┆ 4       ┆ 1       ┆ 68      ┆ 3       ┆          │\n",
       "│ AD    ┆ 2.0     ┆ 30.0  ┆ 0.779518 ┆ 0.486658 ┆ 0.27911 ┆ 0.45933 ┆ -0.0974 ┆ 0.59259 ┆ 0.821236 │\n",
       "│       ┆         ┆       ┆          ┆          ┆ 3       ┆ 4       ┆ 4       ┆ 3       ┆          │\n",
       "└───────┴─────────┴───────┴──────────┴──────────┴─────────┴─────────┴─────────┴─────────┴──────────┘"
      ]
     },
     "execution_count": 2,
     "metadata": {},
     "output_type": "execute_result"
    }
   ],
   "source": [
    "from src.generate_over_yaw_Ctprime import generate_yaw_powerloss_data\n",
    "\n",
    "df = generate_yaw_powerloss_data()\n",
    "CACHE_FN = cachedir / \"yaw_powerloss_data.csv\"\n",
    "\n",
    "df.write_csv(CACHE_FN)\n",
    "\n",
    "df"
   ]
  },
  {
   "cell_type": "code",
   "execution_count": null,
   "metadata": {},
   "outputs": [],
   "source": []
  }
 ],
 "metadata": {
  "kernelspec": {
   "display_name": ".venv",
   "language": "python",
   "name": "python3"
  },
  "language_info": {
   "codemirror_mode": {
    "name": "ipython",
    "version": 3
   },
   "file_extension": ".py",
   "mimetype": "text/x-python",
   "name": "python",
   "nbconvert_exporter": "python",
   "pygments_lexer": "ipython3",
   "version": "3.8.18"
  },
  "orig_nbformat": 4
 },
 "nbformat": 4,
 "nbformat_minor": 2
}
